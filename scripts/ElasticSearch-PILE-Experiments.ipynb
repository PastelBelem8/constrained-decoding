{
 "cells": [
  {
   "cell_type": "markdown",
   "id": "3060b425",
   "metadata": {},
   "source": [
    "On 2023/01/26, we discussed it would be more interesting to analyze **conditional probabilities** (as opposed to unconditional probabilities), since language is largely contextual). To this end, we agreed on:\n",
    "\n",
    "- Run the analysis and comparisons in terms of tokens (as opposed to text).\n",
    "- Running **bi-gram** analysis of the words that co-occur more often within the beginning of the documents.\n",
    "- Use the first token of the bigram to condition the LM and observe the conditional probability of the second token, given the first one: $P(N_{w_2}(K) > 0|w_1)$\n",
    "\n",
    "Comparing the text and the set of tokens in terms of indices, mitigates issues with tokenization that arise in models like GPT2 or GPT-Neo, where **\"data\"** or **\" data\"** are represented differently. Note however, that we do not consider the probability mass (in our estimates) assigned to the sequence of tokens **\"d\" \"a\" \"t\" \"a\"**. We set to revisit this issue later if we find a big gap between model and data distributions.\n",
    "\n",
    "\n",
    "One pseudo-algorithm for computing the terms frequencies is:\n",
    "\n",
    "```\n",
    "Pseudocode: Compute the token frequencies of the first 100 tokens across all documents in the provided dataset.\n",
    "input: Tokenizer (T), docs (D)\n",
    "output: frequencies<int, int>\n",
    "\n",
    "frequencies<int, int> = dict()\n",
    "\n",
    "for d in D:\n",
    "  tokenized_doc = T.tokenize(d)\n",
    "  tokenized_doc = tokenized_doc.slice(100)  // get first 100 \n",
    "\n",
    "  frequencies.update_counts(tokenized_doc)\n",
    "end\n",
    "\n",
    "return frequencies\n",
    "```\n",
    "\n",
    "~~Implementation-wise, if we obtain a list of all possible document names, we can parallelize the terms counts.~~ However, chances are we cannot use the \"_id\" field, since it is a private field and we have no permissions to change the indexing mapping. Let us test the method on a couple of documents, if it's proven to be considerably fast, we will not parallelize it."
   ]
  },
  {
   "cell_type": "code",
   "execution_count": 3,
   "id": "b78a9787",
   "metadata": {},
   "outputs": [],
   "source": [
    "K_TOKENS = 10\n",
    "INDEX = \"re_pile\"\n",
    "\n",
    "# Default keyword arguments for elastic search\n",
    "default_kwargs = {\n",
    "    \"index\": INDEX,\n",
    "    \"track_total_hits\": True,\n",
    "}\n",
    "\n",
    "# Load elastic search \n",
    "from es_utils import load\n",
    "from compute_unigrams import read_yaml_config\n",
    "configs = read_yaml_config(\"./configs/elastic-search.yml\")\n",
    "es = load(**configs)"
   ]
  },
  {
   "cell_type": "code",
   "execution_count": 4,
   "id": "0254f202",
   "metadata": {},
   "outputs": [],
   "source": [
    "def get_tokenization_function(tokenizer, num_tokens: int):\n",
    "    from functools import partial\n",
    "    tokenizer.pad_token = tokenizer.pad_token or tokenizer.eos_token\n",
    "    \n",
    "    return partial(\n",
    "        tokenizer.batch_encode_plus,\n",
    "        max_length=num_tokens,\n",
    "        truncation=True,\n",
    "        padding=\"max_length\",\n",
    "        add_special_tokens=False,\n",
    "    )"
   ]
  },
  {
   "cell_type": "code",
   "execution_count": 5,
   "id": "aee51e59",
   "metadata": {},
   "outputs": [
    {
     "name": "stderr",
     "output_type": "stream",
     "text": [
      "Using pad_token, but it is not set yet.\n"
     ]
    },
    {
     "name": "stdout",
     "output_type": "stream",
     "text": [
      "Slow tokenizer: 50257\n"
     ]
    },
    {
     "name": "stderr",
     "output_type": "stream",
     "text": [
      "Using pad_token, but it is not set yet.\n"
     ]
    },
    {
     "name": "stdout",
     "output_type": "stream",
     "text": [
      "Fast tokenizer: 50257\n"
     ]
    }
   ],
   "source": [
    "num_tokens = 15\n",
    "model_name = \"EleutherAI/gpt-neo-125M\"\n",
    "\n",
    "from transformers import GPT2Tokenizer\n",
    "tokenizer_slow = GPT2Tokenizer.from_pretrained(model_name)\n",
    "tokenize_slow = get_tokenization_function(tokenizer_slow, num_tokens)\n",
    "print(\"Slow tokenizer:\", tokenizer_slow.vocab_size)\n",
    "\n",
    "\n",
    "from transformers import GPT2TokenizerFast\n",
    "tokenizer_fast = GPT2TokenizerFast.from_pretrained(model_name)\n",
    "tokenize_fast = get_tokenization_function(tokenizer_fast, num_tokens)\n",
    "print(\"Fast tokenizer:\", tokenizer_fast.vocab_size)"
   ]
  },
  {
   "cell_type": "code",
   "execution_count": 20,
   "id": "dee80311",
   "metadata": {},
   "outputs": [],
   "source": [
    "import time as t\n",
    "import es_utils\n",
    "\n",
    "\n",
    "def test_scroll(tokenize: callable, query: dict, total_iters=20):\n",
    "    duration = []\n",
    "    \n",
    "    data = iter(es_utils.scroll(es, query, size=128, scroll=\"10m\", index=\"re_pile\"))\n",
    "\n",
    "    for i in range(total_iters):\n",
    "        try:\n",
    "            docs = next(data)\n",
    "        except:\n",
    "            pass\n",
    "        \n",
    "        start = t.time()\n",
    "        tokenize([es_utils.get_text(d) for d in docs])\n",
    "        duration.append(t.time() - start)\n",
    "        \n",
    "    return duration"
   ]
  },
  {
   "cell_type": "code",
   "execution_count": 21,
   "id": "f0c35d4b",
   "metadata": {},
   "outputs": [
    {
     "name": "stdout",
     "output_type": "stream",
     "text": [
      "Total documents found {'value': 211036967, 'relation': 'eq'}\n",
      "Total documents found {'value': 211036967, 'relation': 'eq'}\n"
     ]
    },
    {
     "data": {
      "image/png": "[encoded data removed]",
      "text/plain": [
       "<Figure size 640x480 with 1 Axes>"
      ]
     },
     "metadata": {},
     "output_type": "display_data"
    }
   ],
   "source": [
    "query = {\"match_all\": {}}\n",
    "duration_slow = test_scroll(tokenize_slow, query)\n",
    "duration_fast = test_scroll(tokenize_fast, query)\n",
    "\n",
    "import seaborn as sns\n",
    "import matplotlib.pyplot as plt\n",
    "sns.barplot(x = [\"slow\"] * len(duration_slow) + [\"fast\"] * len(duration_fast), y= duration_slow + duration_fast)\n",
    "plt.title(\"Fast vs Base Tokenizer runtime comparison (over 128 of documents)\")\n",
    "plt.show()"
   ]
  },
  {
   "cell_type": "code",
   "execution_count": 57,
   "id": "225281b6",
   "metadata": {},
   "outputs": [
    {
     "name": "stdout",
     "output_type": "stream",
     "text": [
      "Total documents found {'value': 211036967, 'relation': 'eq'}\n",
      "{'_index': 're_pile', '_id': 'train/06.jsonl.gz-5161135', '_score': 1.0, '_source': {'text': '0\\t1\\n1\\t4\\n3\\t6\\n', 'meta': {'pile_set_name': 'Github'}}}\n",
      "[15, 197, 16, 198, 16, 197, 19, 198, 18, 197, 21, 198]\n",
      "{'_index': 're_pile', '_id': 'train/01.jsonl.gz-5132111', '_score': 1.0, '_source': {'text': 'package test\\n\\ntype typeForTest uint32\\n', 'meta': {'pile_set_name': 'Github'}}}\n",
      "[26495, 1332, 198, 198, 4906, 2099, 1890, 14402, 20398, 2624, 198]\n",
      "{'_index': 're_pile', '_id': 'train/01.jsonl.gz-5155290', '_score': 1.0, '_source': {'text': '<pre>A   XYZ MNO</pre>\\n', 'meta': {'pile_set_name': 'Github'}}}\n",
      "[27, 3866, 29, 32, 220, 220, 41420, 57, 337, 15285, 3556, 3866, 29, 198]\n",
      "{'_index': 're_pile', '_id': 'train/06.jsonl.gz-5187152', '_score': 1.0, '_source': {'text': 'Why the fuck do you all start school so late\\n\\n166 shares', 'meta': {'pile_set_name': 'OpenWebText2'}}}\n",
      "[5195, 262, 5089, 466, 345, 477, 923, 1524, 523, 2739, 198, 198, 23055, 7303]\n",
      "{'_index': 're_pile', '_id': 'train/04.jsonl.gz-5281804', '_score': 1.0, '_source': {'text': 'Spacing for style only or\\n\\nRegion', 'meta': {'pile_set_name': 'OpenWebText2'}}}\n",
      "[4561, 4092, 329, 3918, 691, 393, 198, 198, 47371]\n",
      "\n",
      "Total documents found {'value': 211036967, 'relation': 'eq'}\n",
      "{'_index': 're_pile', '_id': 'train/06.jsonl.gz-5161135', '_score': 1.0, '_source': {'text': '0\\t1\\n1\\t4\\n3\\t6\\n', 'meta': {'pile_set_name': 'Github'}}}\n",
      "[15, 197, 16, 198, 16, 197, 19, 198, 18, 197, 21, 198]\n",
      "{'_index': 're_pile', '_id': 'train/01.jsonl.gz-5132111', '_score': 1.0, '_source': {'text': 'package test\\n\\ntype typeForTest uint32\\n', 'meta': {'pile_set_name': 'Github'}}}\n",
      "[26495, 1332, 198, 198, 4906, 2099, 1890, 14402, 20398, 2624, 198]\n",
      "{'_index': 're_pile', '_id': 'train/01.jsonl.gz-5155290', '_score': 1.0, '_source': {'text': '<pre>A   XYZ MNO</pre>\\n', 'meta': {'pile_set_name': 'Github'}}}\n",
      "[27, 3866, 29, 32, 220, 220, 41420, 57, 337, 15285, 3556, 3866, 29, 198]\n",
      "{'_index': 're_pile', '_id': 'train/06.jsonl.gz-5187152', '_score': 1.0, '_source': {'text': 'Why the fuck do you all start school so late\\n\\n166 shares', 'meta': {'pile_set_name': 'OpenWebText2'}}}\n",
      "[5195, 262, 5089, 466, 345, 477, 923, 1524, 523, 2739, 198, 198, 23055, 7303]\n",
      "{'_index': 're_pile', '_id': 'train/04.jsonl.gz-5281804', '_score': 1.0, '_source': {'text': 'Spacing for style only or\\n\\nRegion', 'meta': {'pile_set_name': 'OpenWebText2'}}}\n",
      "[4561, 4092, 329, 3918, 691, 393, 198, 198, 47371]\n"
     ]
    },
    {
     "data": {
      "image/png": "[encoded data removed]",
      "text/plain": [
       "<Figure size 640x480 with 1 Axes>"
      ]
     },
     "metadata": {},
     "output_type": "display_data"
    }
   ],
   "source": [
    "import time as t\n",
    "import es_utils\n",
    "\n",
    "def filter_tokens(tokens, tokens_mask):\n",
    "    \"\"\"Filter tokens based on the mask\"\"\"\n",
    "    return [token for token, mask in zip(tokens, tokens_mask) if mask]\n",
    "\n",
    "\n",
    "def test_sliced_scroll(tokenize: callable, query: dict, total_iters=20):\n",
    "    duration = []\n",
    "    num_tokens = []\n",
    "    data = iter(es_utils.scroll(es, query, size=128, scroll=\"10m\", index=\"re_pile\"))\n",
    "\n",
    "    for i in range(total_iters):\n",
    "        try:\n",
    "            docs = next(data)\n",
    "        except:\n",
    "            pass\n",
    "        \n",
    "        start = t.time()\n",
    "        results = tokenize([es_utils.get_text(d)[:200] for d in docs])\n",
    "        duration.append(t.time() - start)\n",
    "        \n",
    "        j = 0\n",
    "        for (inp, mask) in zip(results[\"input_ids\"], results[\"attention_mask\"]):\n",
    "            tokens = filter_tokens(inp, mask)\n",
    "            num_tokens.append(len(tokens))\n",
    "            \n",
    "            if num_tokens[-1] < 15:\n",
    "                print(docs[j])\n",
    "                print(tokens)\n",
    "                \n",
    "            j += 1\n",
    "        \n",
    "    return duration, num_tokens\n",
    "\n",
    "\n",
    "query = {\"match_all\": {}}\n",
    "duration_sliced_slow, num_tokens_slow = test_sliced_scroll(tokenize_slow, query)\n",
    "print()\n",
    "duration_sliced_fast, num_tokens_fast = test_sliced_scroll(tokenize_fast, query)\n",
    "\n",
    "import seaborn as sns\n",
    "import matplotlib.pyplot as plt\n",
    "x = (\n",
    "    [\"slow\"] * len(duration_slow) \n",
    "    + [\"slow_sliced\"] * len(duration_sliced_slow)\n",
    "    + [\"fast\"] * len(duration_fast)\n",
    "    + [\"fast_sliced\"] * len(duration_sliced_fast)\n",
    ")\n",
    "y = duration_slow + duration_sliced_slow + duration_fast + duration_sliced_fast\n",
    "sns.barplot(x=x, y=y)\n",
    "plt.title(\"Fast vs Base Tokenizer runtime comparison (over 128 of documents) with slices of 200 chars\")\n",
    "plt.show()"
   ]
  },
  {
   "cell_type": "code",
   "execution_count": 51,
   "id": "d5957286",
   "metadata": {},
   "outputs": [
    {
     "data": {
      "text/plain": [
       "'0\\t1\\n1\\t4\\n3\\t6\\n'"
      ]
     },
     "execution_count": 51,
     "metadata": {},
     "output_type": "execute_result"
    }
   ],
   "source": [
    "tokenizer_fast.decode([15, 197, 16, 198, 16, 197, 19, 198, 18, 197, 21, 198])\n"
   ]
  },
  {
   "cell_type": "code",
   "execution_count": 58,
   "id": "4253e83c",
   "metadata": {},
   "outputs": [
    {
     "data": {
      "text/plain": [
       "[(15, 2555), (14, 2), (12, 1), (11, 1), (9, 1)]"
      ]
     },
     "execution_count": 58,
     "metadata": {},
     "output_type": "execute_result"
    }
   ],
   "source": [
    "from collections import Counter \n",
    "\n",
    "Counter(num_tokens_slow).most_common()"
   ]
  },
  {
   "cell_type": "code",
   "execution_count": 59,
   "id": "af3656b0",
   "metadata": {},
   "outputs": [
    {
     "data": {
      "text/plain": [
       "[(15, 2555), (14, 2), (12, 1), (11, 1), (9, 1)]"
      ]
     },
     "execution_count": 59,
     "metadata": {},
     "output_type": "execute_result"
    }
   ],
   "source": [
    "Counter(num_tokens_fast).most_common()"
   ]
  },
  {
   "cell_type": "code",
   "execution_count": null,
   "id": "595b8477",
   "metadata": {},
   "outputs": [],
   "source": []
  }
 ],
 "metadata": {
  "kernelspec": {
   "display_name": "Python 3 (ipykernel)",
   "language": "python",
   "name": "python3"
  },
  "language_info": {
   "codemirror_mode": {
    "name": "ipython",
    "version": 3
   },
   "file_extension": ".py",
   "mimetype": "text/x-python",
   "name": "python",
   "nbconvert_exporter": "python",
   "pygments_lexer": "ipython3",
   "version": "3.9.13"
  },
  "toc": {
   "base_numbering": 1,
   "nav_menu": {},
   "number_sections": true,
   "sideBar": true,
   "skip_h1_title": true,
   "title_cell": "Table of Contents",
   "title_sidebar": "Contents",
   "toc_cell": false,
   "toc_position": {},
   "toc_section_display": true,
   "toc_window_display": false
  }
 },
 "nbformat": 4,
 "nbformat_minor": 5
}
