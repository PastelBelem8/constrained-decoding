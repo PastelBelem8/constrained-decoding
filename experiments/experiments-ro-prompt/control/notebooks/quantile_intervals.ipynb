{
 "cells": [
  {
   "cell_type": "code",
   "execution_count": 1,
   "metadata": {},
   "outputs": [
    {
     "name": "stderr",
     "output_type": "stream",
     "text": [
      "/home/cbelem/miniconda3/envs/py39/lib/python3.9/site-packages/tqdm/auto.py:22: TqdmWarning: IProgress not found. Please update jupyter and ipywidgets. See https://ipywidgets.readthedocs.io/en/stable/user_install.html\n",
      "  from .autonotebook import tqdm as notebook_tqdm\n"
     ]
    }
   ],
   "source": [
    "from torch.distributions import Binomial\n",
    "\n",
    "import torch\n",
    "import numpy as np"
   ]
  },
  {
   "cell_type": "code",
   "execution_count": 3,
   "metadata": {},
   "outputs": [],
   "source": [
    "def tensor2numpy(t):\n",
    "    if isinstance(t, torch.Tensor):\n",
    "        return t.cpu().numpy()\n",
    "    else:\n",
    "        return t\n",
    "\n",
    "\n",
    "def quantile_intervals(\n",
    "    n,  # (int) Number of data points in your original sample \n",
    "    desired_quantiles,  # (1D torch.tensor, dtype=float) Contains values between 0 and 1 indicating the quantiles you want intervals for\n",
    "    desired_confidence=0.95,  # (float) Single confidence level you want the intervals to span\n",
    "):\n",
    "    desired_ranks = desired_quantiles.double()*n\n",
    "    possible_ranks = torch.arange(0, n, 1).double()\n",
    "    dists = Binomial(total_count=n*torch.ones_like(desired_ranks), probs=desired_quantiles.double())\n",
    "\n",
    "    pmfs = dists.log_prob(possible_ranks.unsqueeze(1)).exp().T\n",
    "    cdfs = pmfs.cumsum(dim=1)\n",
    "\n",
    "    dists = cdfs.unsqueeze(-1) - cdfs.unsqueeze(-2)  # (batch, upper_interval_idx, lower_interval_idx)\n",
    "    valid_upper_indices = possible_ranks.unsqueeze(0) > desired_ranks.unsqueeze(-1)\n",
    "    valid_lower_indices = possible_ranks.unsqueeze(0) < desired_ranks.unsqueeze(-1)\n",
    "    valid_indices = valid_upper_indices.unsqueeze(-1) & valid_lower_indices.unsqueeze(-2)\n",
    "\n",
    "    valid_confs = dists >= desired_confidence\n",
    "    valid_dists = torch.where(valid_indices & valid_confs, dists, torch.finfo(torch.float64).max)\n",
    "\n",
    "    interval_info = valid_dists.view(valid_dists.shape[0], -1).min(dim=-1)\n",
    "    interval_indices, interval_widths = interval_info.indices, interval_info.values\n",
    "    interval_indices = torch.stack([interval_indices // n, interval_indices % n], -1)\n",
    "\n",
    "    upper_interval_ranks = interval_indices[:, 0]\n",
    "    upper_interval_quantiles = upper_interval_ranks / n\n",
    "    lower_interval_ranks = interval_indices[:, 1]\n",
    "    lower_interval_quantiles = lower_interval_ranks / n\n",
    "\n",
    "    metadata = {\n",
    "        \"n\": n,\n",
    "        \"desired_confidence\": desired_confidence,\n",
    "        \"desired_quantiles\": desired_quantiles,\n",
    "        \"desired_ranks\": desired_ranks,\n",
    "        # For whatever sample of results you have that you are taking quantiles on, the interval will be defined be other specific quantiles of the same sample\n",
    "        \"upper_interval_quantiles\": upper_interval_quantiles,\n",
    "        \"lower_interval_quantiles\": lower_interval_quantiles,\n",
    "        # These are the exact ranks of the interval endpoints. i.e., if the upper_interval_rank=4, then the upper end of the interval is the 4th largest value in the sample \n",
    "        \"upper_interval_ranks\": upper_interval_ranks,\n",
    "        \"lower_interval_ranks\": lower_interval_ranks,\n",
    "        # The estimated intervals are not exact, and will often span more than the desired confidence. A good sanity check is to make sure the interval widths are close enough.\n",
    "        \"interval_widths\": interval_widths,\n",
    "    }\n",
    "    \n",
    "    return {k: tensor2numpy(v) for k, v in metadata.items()}"
   ]
  },
  {
   "cell_type": "code",
   "execution_count": 4,
   "metadata": {},
   "outputs": [
    {
     "data": {
      "text/plain": [
       "{'n': 15000,\n",
       " 'desired_confidence': 0.95,\n",
       " 'desired_quantiles': array([0.1  , 0.5  , 0.75 , 0.9  , 0.99 , 0.999]),\n",
       " 'desired_ranks': array([ 1500.,  7500., 11250., 13500., 14850., 14985.]),\n",
       " 'upper_interval_quantiles': array([0.10406667, 0.50673336, 0.7622667 , 0.90686667, 0.99233335,\n",
       "        0.9994    ], dtype=float32),\n",
       " 'lower_interval_quantiles': array([0.09306667, 0.4876    , 0.74413335, 0.8958667 , 0.9886    ,\n",
       "        0.99833333], dtype=float32),\n",
       " 'upper_interval_ranks': array([ 1561,  7601, 11434, 13603, 14885, 14991]),\n",
       " 'lower_interval_ranks': array([ 1396,  7314, 11162, 13438, 14829, 14975]),\n",
       " 'interval_widths': array([0.95005001, 0.95006576, 0.95001116, 0.95005001, 0.95024798,\n",
       "        0.9514941 ])}"
      ]
     },
     "execution_count": 4,
     "metadata": {},
     "output_type": "execute_result"
    }
   ],
   "source": [
    "n = 15000\n",
    "desired_quantiles = torch.tensor([0.1, 0.5, 0.75, 0.9, 0.99, 0.999], dtype=torch.float64)\n",
    "desired_confidence = 0.95\n",
    "quantile_intervals(n, desired_quantiles, desired_confidence)"
   ]
  },
  {
   "cell_type": "code",
   "execution_count": null,
   "metadata": {},
   "outputs": [],
   "source": []
  }
 ],
 "metadata": {
  "kernelspec": {
   "display_name": "Python 3 (ipykernel)",
   "language": "python",
   "name": "python3"
  },
  "language_info": {
   "codemirror_mode": {
    "name": "ipython",
    "version": 3
   },
   "file_extension": ".py",
   "mimetype": "text/x-python",
   "name": "python",
   "nbconvert_exporter": "python",
   "pygments_lexer": "ipython3",
   "version": "3.9.16"
  }
 },
 "nbformat": 4,
 "nbformat_minor": 2
}
