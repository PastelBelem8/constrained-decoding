{
 "cells": [
  {
   "cell_type": "code",
   "execution_count": 1,
   "id": "915dcf6e",
   "metadata": {},
   "outputs": [
    {
     "name": "stderr",
     "output_type": "stream",
     "text": [
      "/home/cbelem/miniconda3/envs/py39/lib/python3.9/site-packages/tqdm/auto.py:22: TqdmWarning: IProgress not found. Please update jupyter and ipywidgets. See https://ipywidgets.readthedocs.io/en/stable/user_install.html\n",
      "  from .autonotebook import tqdm as notebook_tqdm\n"
     ]
    }
   ],
   "source": [
    "from run_decoder import load_model\n",
    "\n",
    "import pandas as pd\n",
    "import numpy as np\n",
    "import torch"
   ]
  },
  {
   "cell_type": "markdown",
   "id": "193ef0c5",
   "metadata": {},
   "source": [
    "# [Control Experiment 2]\n",
    "\n",
    "In this notebook, we take the multinomial samples generated in the first control experiment and we select half of their generations for a second control experiment, focused on estimating the properties of generated sequences in a more diverse region of the decoding spectrum. \n",
    "\n",
    "Particularly, if we're interested in making claims regarding the properties of decoding algorithms, we should make sure they cover a wider broader of the generation spectrum. Multinomial sampling provides this. Since it's sampling randomly from the model distribution it has enough randomness to cover a wide variety of sequences (instead of converging to the same exact sequence). \n",
    "\n",
    "\n",
    "**In this notebook**, you'll find the code that loads the generated sentences with **multinomial** (or ancestral sampling) in the first control experiment. Then, we will tokenizer them using the corresponding model, selecting up to the first 50 tokens."
   ]
  },
  {
   "cell_type": "code",
   "execution_count": 10,
   "id": "ac006df5",
   "metadata": {},
   "outputs": [
    {
     "name": "stdout",
     "output_type": "stream",
     "text": [
      "131072 Index(['sampling_kwargs', 'sequence_log_prob', 'sequence',\n",
      "       'seq_trans_log_probs', 'seq_entropy_log_probs'],\n",
      "      dtype='object')\n"
     ]
    },
    {
     "data": {
      "text/html": [
       "<div>\n",
       "<style scoped>\n",
       "    .dataframe tbody tr th:only-of-type {\n",
       "        vertical-align: middle;\n",
       "    }\n",
       "\n",
       "    .dataframe tbody tr th {\n",
       "        vertical-align: top;\n",
       "    }\n",
       "\n",
       "    .dataframe thead th {\n",
       "        text-align: right;\n",
       "    }\n",
       "</style>\n",
       "<table border=\"1\" class=\"dataframe\">\n",
       "  <thead>\n",
       "    <tr style=\"text-align: right;\">\n",
       "      <th></th>\n",
       "      <th>sampling_kwargs</th>\n",
       "      <th>sequence_log_prob</th>\n",
       "      <th>sequence</th>\n",
       "      <th>seq_trans_log_probs</th>\n",
       "      <th>seq_entropy_log_probs</th>\n",
       "    </tr>\n",
       "  </thead>\n",
       "  <tbody>\n",
       "    <tr>\n",
       "      <th>0</th>\n",
       "      <td>{'do_sample': True, 'num_beams': 1}</td>\n",
       "      <td>-159.001526</td>\n",
       "      <td># -*- coding: utf-8 -*-\\n\\n# Copyright (c) 200...</td>\n",
       "      <td>[-4.25621414e+00 -3.50089359e+00 -1.71435475e-...</td>\n",
       "      <td>[6.24843740e+00 4.77410412e+00 8.90498519e-01 ...</td>\n",
       "    </tr>\n",
       "    <tr>\n",
       "      <th>1</th>\n",
       "      <td>{'do_sample': True, 'num_beams': 1}</td>\n",
       "      <td>-31.050560</td>\n",
       "      <td>#include \"caffe/layer.h\"\\n#include \"caffe/laye...</td>\n",
       "      <td>[-4.25621414e+00 -1.97094822e+00 -7.76075125e-...</td>\n",
       "      <td>[6.24843740e+00 4.77410412e+00 1.04744852e+00 ...</td>\n",
       "    </tr>\n",
       "    <tr>\n",
       "      <th>2</th>\n",
       "      <td>{'do_sample': True, 'num_beams': 1}</td>\n",
       "      <td>-187.262802</td>\n",
       "      <td>Q:\\n\\nWhat can I do if I find myself lost?\\n\\n...</td>\n",
       "      <td>[-2.0242403e+00 -2.8133120e-03 -5.6250958e-04 ...</td>\n",
       "      <td>[6.24843740e+00 3.44278552e-02 6.99321413e-03 ...</td>\n",
       "    </tr>\n",
       "    <tr>\n",
       "      <th>3</th>\n",
       "      <td>{'do_sample': True, 'num_beams': 1}</td>\n",
       "      <td>-197.876038</td>\n",
       "      <td>Q:\\n\\nAre there any good sources of material o...</td>\n",
       "      <td>[-2.0242403e+00 -2.8133120e-03 -5.6250958e-04 ...</td>\n",
       "      <td>[6.2484374e+00 3.4427855e-02 6.9932141e-03 6.4...</td>\n",
       "    </tr>\n",
       "    <tr>\n",
       "      <th>4</th>\n",
       "      <td>{'do_sample': True, 'num_beams': 1}</td>\n",
       "      <td>-16.165073</td>\n",
       "      <td>&lt;?php\\n\\n/*\\n * This file is part of the Symfo...</td>\n",
       "      <td>[-5.10383320e+00 -7.00230420e-01 -9.23322588e-...</td>\n",
       "      <td>[6.24843740e+00 7.29738057e-01 5.58597088e-01 ...</td>\n",
       "    </tr>\n",
       "  </tbody>\n",
       "</table>\n",
       "</div>"
      ],
      "text/plain": [
       "                       sampling_kwargs  sequence_log_prob  \\\n",
       "0  {'do_sample': True, 'num_beams': 1}        -159.001526   \n",
       "1  {'do_sample': True, 'num_beams': 1}         -31.050560   \n",
       "2  {'do_sample': True, 'num_beams': 1}        -187.262802   \n",
       "3  {'do_sample': True, 'num_beams': 1}        -197.876038   \n",
       "4  {'do_sample': True, 'num_beams': 1}         -16.165073   \n",
       "\n",
       "                                            sequence  \\\n",
       "0  # -*- coding: utf-8 -*-\\n\\n# Copyright (c) 200...   \n",
       "1  #include \"caffe/layer.h\"\\n#include \"caffe/laye...   \n",
       "2  Q:\\n\\nWhat can I do if I find myself lost?\\n\\n...   \n",
       "3  Q:\\n\\nAre there any good sources of material o...   \n",
       "4  <?php\\n\\n/*\\n * This file is part of the Symfo...   \n",
       "\n",
       "                                 seq_trans_log_probs  \\\n",
       "0  [-4.25621414e+00 -3.50089359e+00 -1.71435475e-...   \n",
       "1  [-4.25621414e+00 -1.97094822e+00 -7.76075125e-...   \n",
       "2  [-2.0242403e+00 -2.8133120e-03 -5.6250958e-04 ...   \n",
       "3  [-2.0242403e+00 -2.8133120e-03 -5.6250958e-04 ...   \n",
       "4  [-5.10383320e+00 -7.00230420e-01 -9.23322588e-...   \n",
       "\n",
       "                               seq_entropy_log_probs  \n",
       "0  [6.24843740e+00 4.77410412e+00 8.90498519e-01 ...  \n",
       "1  [6.24843740e+00 4.77410412e+00 1.04744852e+00 ...  \n",
       "2  [6.24843740e+00 3.44278552e-02 6.99321413e-03 ...  \n",
       "3  [6.2484374e+00 3.4427855e-02 6.9932141e-03 6.4...  \n",
       "4  [6.24843740e+00 7.29738057e-01 5.58597088e-01 ...  "
      ]
     },
     "execution_count": 10,
     "metadata": {},
     "output_type": "execute_result"
    }
   ],
   "source": [
    "MODEL_NAME = \"EleutherAI/pythia-70m\"\n",
    "MODEL_NAME = \"EleutherAI/pythia-1.4b\"\n",
    "MODEL_NAME = \"EleutherAI/pythia-2.8b\"\n",
    "\n",
    "if MODEL_NAME.endswith(\"2.8b\"):\n",
    "    BASE_DIR = f\"/extra/ucinlp1/cbelem/experiment-ro-prompts/generations/uncond\"\n",
    "    OUTPUT_DIR = f\"/extra/ucinlp1/cbelem/experiment-ro-prompts/generations-results/uncond-half-multinomial/{MODEL_FILENAME}\"\n",
    "    DATASET_PATH = f\"{BASE_DIR}/{MODEL_FILENAME}-multinomial.csv\"\n",
    "\n",
    "else:\n",
    "    BASE_DIR = f\"/extra/ucinlp1/cbelem/experiment-ro-prompts/generations-results/uncond\"\n",
    "    OUTPUT_DIR = f\"{BASE_DIR}-half-multinomial/{MODEL_FILENAME}\"\n",
    "    DATASET_PATH = f\"{BASE_DIR}/{MODEL_FILENAME}/multinomial.csv\"\n",
    "\n",
    "mult_data = pd.read_csv(DATASET_PATH, index_col=0)\n",
    "print(len(mult_data), mult_data.columns)\n",
    "mult_data.head()"
   ]
  },
  {
   "cell_type": "code",
   "execution_count": 11,
   "id": "4018942d",
   "metadata": {},
   "outputs": [
    {
     "name": "stdout",
     "output_type": "stream",
     "text": [
      "EleutherAI__pythia-2.8b\n"
     ]
    }
   ],
   "source": [
    "MODEL_FILENAME, MODEL, TOKENIZER, DEVICE = load_model(MODEL_NAME, device=\"cuda:5\")\n",
    "print(MODEL_FILENAME)"
   ]
  },
  {
   "cell_type": "markdown",
   "id": "95234820",
   "metadata": {},
   "source": [
    "# Tokenize and half the sequences\n",
    "\n",
    "In this section, we tokenizer all the sequences in the `mult_data` dataframe (assumed to be located in a column named `sequence`). We iterate in batches of 64 sequences and split the sequences using `SPLIT_AFTER_TOKENS`."
   ]
  },
  {
   "cell_type": "code",
   "execution_count": 12,
   "id": "2f68d3a1",
   "metadata": {},
   "outputs": [],
   "source": [
    "sequences = mult_data[\"sequence\"].values\n",
    "n_seqs = len(sequences)\n",
    "BATCH_SIZE = 64\n",
    "SPLIT_AFTER_TOKENS = 50\n",
    "\n",
    "\n",
    "half_sequences = []\n",
    "lengths, half_lengths = [], []\n",
    "\n",
    "for start in range(0, n_seqs, BATCH_SIZE):\n",
    "    end = min(start+BATCH_SIZE, n_seqs)\n",
    "    batch = sequences[start:end].tolist()\n",
    "    \n",
    "    sequences_enc = TOKENIZER.batch_encode_plus(batch, add_special_tokens=False).input_ids\n",
    "    sequences_enc_half = [seq[:SPLIT_AFTER_TOKENS] for seq in sequences_enc]\n",
    "    half_lengths.extend([len(s) for s in sequences_enc_half])\n",
    "\n",
    "    sequences_enc_half = TOKENIZER.batch_decode(sequences_enc_half)\n",
    "    half_sequences.extend(sequences_enc_half)\n",
    "    lengths.extend([len(s) for s in sequences_enc])"
   ]
  },
  {
   "cell_type": "code",
   "execution_count": 15,
   "id": "6c0c4281",
   "metadata": {},
   "outputs": [
    {
     "data": {
      "image/png": "[encoded data removed]",
      "text/plain": [
       "<Figure size 1000x500 with 2 Axes>"
      ]
     },
     "metadata": {},
     "output_type": "display_data"
    }
   ],
   "source": [
    "import matplotlib.pyplot as plt\n",
    "import seaborn as sns\n",
    "\n",
    "fig, axes = plt.subplots(1, 2, figsize=(10, 5))\n",
    "fig.suptitle(MODEL_NAME)\n",
    "\n",
    "sns.histplot(lengths, binwidth=1, ax=axes[0], binrange=(0, 100))\n",
    "axes[0].set_title(\"Original Length (num tokens)\")\n",
    "axes[0].set_yscale(\"log\")\n",
    "\n",
    "sns.histplot(half_lengths, binwidth=1, ax=axes[1], binrange=(0, 100))\n",
    "axes[1].set_title(\"Half length (num tokens)\")\n",
    "\n",
    "axes[1].set_yscale(\"log\")\n",
    "plt.tight_layout()"
   ]
  },
  {
   "cell_type": "code",
   "execution_count": 16,
   "id": "b943febf",
   "metadata": {},
   "outputs": [
    {
     "data": {
      "text/plain": [
       "['# -*- coding: utf-8 -*-\\n\\n# Copyright (c) 2004-2010 RHOQ, LLC and Contributors.\\n# Maintainer:\\n#\\tEmail: M.Nugent at rhounet dot org\\n',\n",
       " '#include \"caffe/layer.h\"\\n#include \"caffe/layers/loss_layer.h\"\\n#include \"caffe/util/math_functions.h\"\\n#include \"caffe/util/upgrade',\n",
       " \"Q:\\n\\nWhat can I do if I find myself lost?\\n\\nOkay, so I was at my friend's place, and he told me about the location where he was going to make a portal, but when I went there, I\",\n",
       " \"Q:\\n\\nAre there any good sources of material on the development of quantum theory?\\n\\nI was thinking about the development of quantum mechanics. But there isn't a very good reference on the topic. Are there any good sources, or would\"]"
      ]
     },
     "execution_count": 16,
     "metadata": {},
     "output_type": "execute_result"
    }
   ],
   "source": [
    "half_sequences[:4]"
   ]
  },
  {
   "cell_type": "markdown",
   "id": "0180f4ee",
   "metadata": {},
   "source": [
    "## Create the file and dump it\n",
    "\n",
    "Note that there will be sequences where there is no continuation... This is because there were too little to tokens following it."
   ]
  },
  {
   "cell_type": "code",
   "execution_count": 17,
   "id": "d2119968",
   "metadata": {},
   "outputs": [
    {
     "data": {
      "text/html": [
       "<div>\n",
       "<style scoped>\n",
       "    .dataframe tbody tr th:only-of-type {\n",
       "        vertical-align: middle;\n",
       "    }\n",
       "\n",
       "    .dataframe tbody tr th {\n",
       "        vertical-align: top;\n",
       "    }\n",
       "\n",
       "    .dataframe thead th {\n",
       "        text-align: right;\n",
       "    }\n",
       "</style>\n",
       "<table border=\"1\" class=\"dataframe\">\n",
       "  <thead>\n",
       "    <tr style=\"text-align: right;\">\n",
       "      <th></th>\n",
       "      <th>sequence</th>\n",
       "      <th>prefix</th>\n",
       "      <th>continuation</th>\n",
       "      <th>sequence_num_tokens</th>\n",
       "      <th>prefix_num_tokens</th>\n",
       "      <th>continuation_num_tokens</th>\n",
       "      <th>sampling_kwargs</th>\n",
       "      <th>original_filepath</th>\n",
       "      <th>prefix_kwargs</th>\n",
       "    </tr>\n",
       "  </thead>\n",
       "  <tbody>\n",
       "    <tr>\n",
       "      <th>0</th>\n",
       "      <td># -*- coding: utf-8 -*-\\n\\n# Copyright (c) 200...</td>\n",
       "      <td># -*- coding: utf-8 -*-\\n\\n# Copyright (c) 200...</td>\n",
       "      <td># TODO:\\n#\\t- Add an option to allow this to b...</td>\n",
       "      <td>100</td>\n",
       "      <td>50</td>\n",
       "      <td>50</td>\n",
       "      <td>{'do_sample': True, 'num_beams': 1}</td>\n",
       "      <td>/extra/ucinlp1/cbelem/experiment-ro-prompts/ge...</td>\n",
       "      <td>{'tokenizer': 'GPTNeoXTokenizerFast', 'split_a...</td>\n",
       "    </tr>\n",
       "    <tr>\n",
       "      <th>1</th>\n",
       "      <td>#include \"caffe/layer.h\"\\n#include \"caffe/laye...</td>\n",
       "      <td>#include \"caffe/layer.h\"\\n#include \"caffe/laye...</td>\n",
       "      <td>_proto.h\"\\n\\nnamespace caffe {\\n\\ntemplate &lt;ty...</td>\n",
       "      <td>100</td>\n",
       "      <td>50</td>\n",
       "      <td>50</td>\n",
       "      <td>{'do_sample': True, 'num_beams': 1}</td>\n",
       "      <td>/extra/ucinlp1/cbelem/experiment-ro-prompts/ge...</td>\n",
       "      <td>{'tokenizer': 'GPTNeoXTokenizerFast', 'split_a...</td>\n",
       "    </tr>\n",
       "    <tr>\n",
       "      <th>2</th>\n",
       "      <td>Q:\\n\\nWhat can I do if I find myself lost?\\n\\n...</td>\n",
       "      <td>Q:\\n\\nWhat can I do if I find myself lost?\\n\\n...</td>\n",
       "      <td>found that the portal was locked. So what did...</td>\n",
       "      <td>100</td>\n",
       "      <td>50</td>\n",
       "      <td>50</td>\n",
       "      <td>{'do_sample': True, 'num_beams': 1}</td>\n",
       "      <td>/extra/ucinlp1/cbelem/experiment-ro-prompts/ge...</td>\n",
       "      <td>{'tokenizer': 'GPTNeoXTokenizerFast', 'split_a...</td>\n",
       "    </tr>\n",
       "    <tr>\n",
       "      <th>3</th>\n",
       "      <td>Q:\\n\\nAre there any good sources of material o...</td>\n",
       "      <td>Q:\\n\\nAre there any good sources of material o...</td>\n",
       "      <td>you recommend your favourite book/article on ...</td>\n",
       "      <td>100</td>\n",
       "      <td>50</td>\n",
       "      <td>50</td>\n",
       "      <td>{'do_sample': True, 'num_beams': 1}</td>\n",
       "      <td>/extra/ucinlp1/cbelem/experiment-ro-prompts/ge...</td>\n",
       "      <td>{'tokenizer': 'GPTNeoXTokenizerFast', 'split_a...</td>\n",
       "    </tr>\n",
       "    <tr>\n",
       "      <th>4</th>\n",
       "      <td>&lt;?php\\n\\n/*\\n * This file is part of the Symfo...</td>\n",
       "      <td>&lt;?php\\n\\n/*\\n * This file is part of the Symfo...</td>\n",
       "      <td>please view the LICENSE\\n * file that was dis...</td>\n",
       "      <td>100</td>\n",
       "      <td>50</td>\n",
       "      <td>50</td>\n",
       "      <td>{'do_sample': True, 'num_beams': 1}</td>\n",
       "      <td>/extra/ucinlp1/cbelem/experiment-ro-prompts/ge...</td>\n",
       "      <td>{'tokenizer': 'GPTNeoXTokenizerFast', 'split_a...</td>\n",
       "    </tr>\n",
       "  </tbody>\n",
       "</table>\n",
       "</div>"
      ],
      "text/plain": [
       "                                            sequence  \\\n",
       "0  # -*- coding: utf-8 -*-\\n\\n# Copyright (c) 200...   \n",
       "1  #include \"caffe/layer.h\"\\n#include \"caffe/laye...   \n",
       "2  Q:\\n\\nWhat can I do if I find myself lost?\\n\\n...   \n",
       "3  Q:\\n\\nAre there any good sources of material o...   \n",
       "4  <?php\\n\\n/*\\n * This file is part of the Symfo...   \n",
       "\n",
       "                                              prefix  \\\n",
       "0  # -*- coding: utf-8 -*-\\n\\n# Copyright (c) 200...   \n",
       "1  #include \"caffe/layer.h\"\\n#include \"caffe/laye...   \n",
       "2  Q:\\n\\nWhat can I do if I find myself lost?\\n\\n...   \n",
       "3  Q:\\n\\nAre there any good sources of material o...   \n",
       "4  <?php\\n\\n/*\\n * This file is part of the Symfo...   \n",
       "\n",
       "                                        continuation  sequence_num_tokens  \\\n",
       "0  # TODO:\\n#\\t- Add an option to allow this to b...                  100   \n",
       "1  _proto.h\"\\n\\nnamespace caffe {\\n\\ntemplate <ty...                  100   \n",
       "2   found that the portal was locked. So what did...                  100   \n",
       "3   you recommend your favourite book/article on ...                  100   \n",
       "4   please view the LICENSE\\n * file that was dis...                  100   \n",
       "\n",
       "   prefix_num_tokens  continuation_num_tokens  \\\n",
       "0                 50                       50   \n",
       "1                 50                       50   \n",
       "2                 50                       50   \n",
       "3                 50                       50   \n",
       "4                 50                       50   \n",
       "\n",
       "                       sampling_kwargs  \\\n",
       "0  {'do_sample': True, 'num_beams': 1}   \n",
       "1  {'do_sample': True, 'num_beams': 1}   \n",
       "2  {'do_sample': True, 'num_beams': 1}   \n",
       "3  {'do_sample': True, 'num_beams': 1}   \n",
       "4  {'do_sample': True, 'num_beams': 1}   \n",
       "\n",
       "                                   original_filepath  \\\n",
       "0  /extra/ucinlp1/cbelem/experiment-ro-prompts/ge...   \n",
       "1  /extra/ucinlp1/cbelem/experiment-ro-prompts/ge...   \n",
       "2  /extra/ucinlp1/cbelem/experiment-ro-prompts/ge...   \n",
       "3  /extra/ucinlp1/cbelem/experiment-ro-prompts/ge...   \n",
       "4  /extra/ucinlp1/cbelem/experiment-ro-prompts/ge...   \n",
       "\n",
       "                                       prefix_kwargs  \n",
       "0  {'tokenizer': 'GPTNeoXTokenizerFast', 'split_a...  \n",
       "1  {'tokenizer': 'GPTNeoXTokenizerFast', 'split_a...  \n",
       "2  {'tokenizer': 'GPTNeoXTokenizerFast', 'split_a...  \n",
       "3  {'tokenizer': 'GPTNeoXTokenizerFast', 'split_a...  \n",
       "4  {'tokenizer': 'GPTNeoXTokenizerFast', 'split_a...  "
      ]
     },
     "execution_count": 17,
     "metadata": {},
     "output_type": "execute_result"
    }
   ],
   "source": [
    "continuations = [seq.replace(pref, \"\") for seq, pref in zip(sequences, half_sequences)]\n",
    "\n",
    "experiment_half = {\n",
    "    \"sequence\": mult_data[\"sequence\"].values,\n",
    "    \"prefix\": half_sequences,\n",
    "    \"continuation\": continuations,\n",
    "    \"sequence_num_tokens\": lengths,\n",
    "    \"prefix_num_tokens\": half_lengths,\n",
    "    \"continuation_num_tokens\": [sl - pl for sl, pl in zip(lengths, half_lengths)],\n",
    "    \"sampling_kwargs\":  mult_data[\"sampling_kwargs\"].values,\n",
    "    \"original_filepath\": [DATASET_PATH] * len(half_sequences)\n",
    "}\n",
    "\n",
    "experiment_half = pd.DataFrame(experiment_half)\n",
    "experiment_half[\"prefix_kwargs\"] = [{\n",
    "    \"tokenizer\": TOKENIZER.__class__.__name__, \n",
    "    \"split_after\": SPLIT_AFTER_TOKENS,\n",
    "}] * len(experiment_half)\n",
    "\n",
    "experiment_half.head()"
   ]
  },
  {
   "cell_type": "code",
   "execution_count": 19,
   "id": "200a484c",
   "metadata": {},
   "outputs": [],
   "source": [
    "import os\n",
    "\n",
    "os.makedirs(OUTPUT_DIR, exist_ok=True)\n",
    "experiment_half.to_csv(f\"{OUTPUT_DIR}/raw_data.csv\")"
   ]
  },
  {
   "cell_type": "code",
   "execution_count": null,
   "id": "97e0ebf4",
   "metadata": {},
   "outputs": [],
   "source": []
  }
 ],
 "metadata": {
  "kernelspec": {
   "display_name": "Python 3 (ipykernel)",
   "language": "python",
   "name": "python3"
  },
  "language_info": {
   "codemirror_mode": {
    "name": "ipython",
    "version": 3
   },
   "file_extension": ".py",
   "mimetype": "text/x-python",
   "name": "python",
   "nbconvert_exporter": "python",
   "pygments_lexer": "ipython3",
   "version": "3.9.16"
  }
 },
 "nbformat": 4,
 "nbformat_minor": 5
}
