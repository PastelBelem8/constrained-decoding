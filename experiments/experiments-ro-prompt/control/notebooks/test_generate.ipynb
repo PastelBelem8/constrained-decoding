{
 "cells": [
  {
   "cell_type": "code",
   "execution_count": null,
   "id": "372567ed",
   "metadata": {},
   "outputs": [],
   "source": [
    "from sampling.utils import create_history\n",
    "\n",
    "import pandas as pd\n",
    "import numpy as np\n",
    "import torch\n",
    "import tqdm"
   ]
  },
  {
   "cell_type": "code",
   "execution_count": null,
   "id": "fa709bce",
   "metadata": {},
   "outputs": [],
   "source": [
    "def load_model(name, revision=None, device=None):\n",
    "    from transformers import AutoTokenizer\n",
    "    def update_model_and_tokenizer(model, tokenizer):\n",
    "        pass\n",
    "\n",
    "    model_kwargs = {}\n",
    "    tokenizer_kwargs = {}\n",
    "\n",
    "    # Load GPT2 model\n",
    "    if \"gpt2\" in name:\n",
    "        from transformers import GPT2LMHeadModel\n",
    "        model_class = GPT2LMHeadModel\n",
    "\n",
    "        def update_model_and_tokenizer(model, tokenizer):\n",
    "            tokenizer.pad_token = tokenizer.eos_token\n",
    "            tokenizer.pad_token_id = tokenizer.eos_token_id\n",
    "            model.config.pad_token_id = model.config.eos_token_id\n",
    "\n",
    "    elif \"gpt-neo\" in name:\n",
    "        from transformers import GPTNeoForCausalLM\n",
    "        model_class = GPTNeoForCausalLM\n",
    "\n",
    "        def update_model_and_tokenizer(model, tokenizer):\n",
    "            tokenizer.pad_token = tokenizer.eos_token\n",
    "            model.config.pad_token_id = model.config.eos_token_id\n",
    "\n",
    "    elif \"pythia\" in name:\n",
    "        # GPTNeoXTokenizerFast\n",
    "        from transformers import GPTNeoXForCausalLM\n",
    "        model_class = GPTNeoXForCausalLM\n",
    "        if revision:\n",
    "            model_kwargs.update(revision=revision)\n",
    "    else:\n",
    "        raise ValueError(f\"Undefined: {name}\")\n",
    "\n",
    "    model = model_class.from_pretrained(name)\n",
    "    tokenizer = AutoTokenizer.from_pretrained(name, padding_side=\"left\")\n",
    "    update_model_and_tokenizer(model, tokenizer)\n",
    "\n",
    "    if device is None:\n",
    "        device = \"cuda\" if torch.cuda.is_available() else \"cpu\"\n",
    "\n",
    "    model.to(device)\n",
    "    return model, tokenizer, device\n",
    "\n",
    "\n",
    "MODEL_NAME, MODEL_REVISION = \"EleutherAI/pythia-70m\", \"\"\n",
    "MODEL, TOKENIZER, DEVICE = load_model(MODEL_NAME, MODEL_REVISION, None)"
   ]
  },
  {
   "cell_type": "code",
   "execution_count": null,
   "id": "705dd15f",
   "metadata": {},
   "outputs": [],
   "source": [
    "def generate(\n",
    "    prefix: str, num_sequences: int, batch_size: int, model, tokenizer, device, seed=None, **sampling_kwargs,\n",
    "):\n",
    "    if seed is not None:\n",
    "        np.random.seed(seed)\n",
    "        torch.manual_seed(seed)\n",
    "\n",
    "    default_kwargs = dict(\n",
    "        return_dict_in_generate=True,\n",
    "        output_scores=True,\n",
    "        pad_token_id=tokenizer.eos_token_id,\n",
    "    )\n",
    "    default_kwargs.update(sampling_kwargs)\n",
    "\n",
    "    seqs = []\n",
    "    seq_scores = []\n",
    "    seq_trans_scores = []\n",
    "    seq_entr_scores = []\n",
    "    for start in range(0, num_sequences, batch_size):\n",
    "        size = min(batch_size, num_sequences-start)\n",
    "\n",
    "        input_ids = (\n",
    "            tokenizer(\n",
    "                # prefix, return_tensors=\"pt\", add_special_tokens=False\n",
    "                tokenizer.bos_token + prefix, return_tensors=\"pt\", add_special_tokens=False\n",
    "            ).input_ids\n",
    "            if prefix is not None\n",
    "            else None\n",
    "        )\n",
    "        # input_ids = create_history(size, prefix, tokenizer.bos_token_id).to(device)\n",
    "        input_ids = create_history(size, input_ids, tokenizer.bos_token_id).to(device)\n",
    "        attention_mask = torch.ones_like(input_ids).to(device)\n",
    "\n",
    "        # Generate sequences\n",
    "        outputs = model.generate(input_ids, attention_mask=attention_mask, **default_kwargs)\n",
    "        sequences = outputs.sequences\n",
    "\n",
    "        # Compute each sequence probability\n",
    "        results = model(sequences, attention_mask=torch.ones_like(sequences), labels=sequences)\n",
    "        batch_score = -results.loss.cpu().detach().numpy()\n",
    "\n",
    "        # Based on the discussion at\n",
    "        # https://discuss.huggingface.co/t/announcement-generation-get-probabilities-for-generated-output/30075/20\n",
    "        logits = torch.log_softmax(results.logits, dim=-1).detach()\n",
    "\n",
    "        # collect the probability of the generated token\n",
    "        # -- probability at index 0 corresponds to the token at index 1\n",
    "        logits, input_ids = logits[:, :-1, :], sequences[:,1:,None]\n",
    "\n",
    "        # Scores per token of the template\n",
    "        batch_seq_scores = torch.gather(logits, 2, input_ids).squeeze(-1)\n",
    "\n",
    "        _avg_loss = batch_seq_scores.mean(dim=-1).mean().item()\n",
    "        assert np.abs(_avg_loss - batch_score) <= 1e-5, f\"Loss does not match: (batch: {input_ids})), {_avg_loss} - {batch_score} > 1e-6\"\n",
    "\n",
    "        seqs.extend(sequences.detach().cpu().numpy().tolist())\n",
    "        seq_scores.extend(batch_seq_scores.sum(dim=-1).detach().cpu().numpy().tolist())\n",
    "        seq_trans_scores.extend(batch_seq_scores.cpu().detach().numpy())\n",
    "        \n",
    "        # Compute entropy\n",
    "        probits = torch.softmax(logits, dim=-1)\n",
    "        torch_entropy = -1 * torch.mul(probits, logits).sum(dim=-1)\n",
    "        seq_entr_scores.extend(torch_entropy.detach().cpu().detach().numpy())\n",
    "\n",
    "    return seqs, seq_scores, seq_trans_scores, seq_entr_scores\n"
   ]
  },
  {
   "cell_type": "code",
   "execution_count": null,
   "id": "e790dd3e",
   "metadata": {},
   "outputs": [],
   "source": [
    "sampled_seq, sampled_scores, sampled_seq_trans_scores, sampled_seq_entr_scores = generate(\n",
    "        prefix=None,\n",
    "        num_sequences=16,\n",
    "        batch_size=8,\n",
    "        model=MODEL,\n",
    "        tokenizer=TOKENIZER,\n",
    "        device=DEVICE,\n",
    "        seed=24,\n",
    "        do_sample=True,\n",
    "        num_beams=1,\n",
    "        max_new_tokens=100,\n",
    ")"
   ]
  },
  {
   "cell_type": "code",
   "execution_count": null,
   "id": "c7c32896",
   "metadata": {},
   "outputs": [],
   "source": [
    "results = {\"sequence_log_prob\": [], \"sequence\": [], \"seq_trans_log_probs\": [], \"seq_entropy_log_probs\": []}\n",
    "results[\"sequence_log_prob\"].extend(sampled_scores)\n",
    "results[\"sequence\"].extend(TOKENIZER.batch_decode(sampled_seq, skip_special_tokens=True))\n",
    "results[\"seq_trans_log_probs\"].extend(sampled_seq_trans_scores)\n",
    "results[\"seq_entropy_log_probs\"].extend(sampled_seq_entr_scores)\n",
    "pd.DataFrame(results)"
   ]
  },
  {
   "cell_type": "code",
   "execution_count": 1,
   "id": "c8868bec",
   "metadata": {},
   "outputs": [
    {
     "name": "stderr",
     "output_type": "stream",
     "text": [
      "/home/cbelem/miniconda3/envs/py39/lib/python3.9/site-packages/tqdm/auto.py:22: TqdmWarning: IProgress not found. Please update jupyter and ipywidgets. See https://ipywidgets.readthedocs.io/en/stable/user_install.html\n",
      "  from .autonotebook import tqdm as notebook_tqdm\n"
     ]
    }
   ],
   "source": [
    "from transformers.utils import logging\n",
    "# logging.set_verbosity_info("
   ]
  },
  {
   "cell_type": "code",
   "execution_count": 3,
   "id": "543f1d02",
   "metadata": {},
   "outputs": [
    {
     "data": {
      "text/plain": [
       "131072"
      ]
     },
     "execution_count": 3,
     "metadata": {},
     "output_type": "execute_result"
    }
   ],
   "source": [
    "2048*64"
   ]
  },
  {
   "cell_type": "code",
   "execution_count": 5,
   "id": "a1f2a522",
   "metadata": {},
   "outputs": [
    {
     "data": {
      "text/plain": [
       "8192.0"
      ]
     },
     "execution_count": 5,
     "metadata": {},
     "output_type": "execute_result"
    }
   ],
   "source": [
    "32768 / 4"
   ]
  },
  {
   "cell_type": "code",
   "execution_count": 7,
   "id": "1789a32e",
   "metadata": {},
   "outputs": [],
   "source": [
    "import pandas as pd\n",
    "\n",
    "d = pd.read_csv(\"/extra/ucinlp1/cbelem/experiment-ro-prompts/generations/uncond/EleutherAI__pythia-70m-top_p.csv\", index_col=0)"
   ]
  },
  {
   "cell_type": "code",
   "execution_count": null,
   "id": "f6e324f8",
   "metadata": {},
   "outputs": [],
   "source": [
    "d = pd.read_csv(\"/extra/ucinlp1/cbelem/experiment-ro-prompts/generations/uncond/EleutherAI__pythia-70m-top_p.csv\", index_col=0)"
   ]
  },
  {
   "cell_type": "code",
   "execution_count": null,
   "id": "698d3feb",
   "metadata": {},
   "outputs": [],
   "source": [
    "d.head()"
   ]
  },
  {
   "cell_type": "code",
   "execution_count": null,
   "id": "0ca892c4",
   "metadata": {},
   "outputs": [],
   "source": []
  }
 ],
 "metadata": {
  "kernelspec": {
   "display_name": "Python 3 (ipykernel)",
   "language": "python",
   "name": "python3"
  },
  "language_info": {
   "codemirror_mode": {
    "name": "ipython",
    "version": 3
   },
   "file_extension": ".py",
   "mimetype": "text/x-python",
   "name": "python",
   "nbconvert_exporter": "python",
   "pygments_lexer": "ipython3",
   "version": "3.9.13"
  },
  "toc": {
   "base_numbering": 1,
   "nav_menu": {},
   "number_sections": true,
   "sideBar": true,
   "skip_h1_title": true,
   "title_cell": "Table of Contents",
   "title_sidebar": "Contents",
   "toc_cell": false,
   "toc_position": {},
   "toc_section_display": true,
   "toc_window_display": false
  }
 },
 "nbformat": 4,
 "nbformat_minor": 5
}
