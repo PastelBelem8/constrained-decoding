{
 "cells": [
  {
   "cell_type": "code",
   "execution_count": null,
   "id": "b38f4b5a",
   "metadata": {},
   "outputs": [],
   "source": [
    "import pandas as pd\n",
    "import numpy as np \n",
    "import googleapiclient\n",
    "\n",
    "import json, jsonlines, time\n",
    "from googleapiclient.http import HttpError\n",
    "from tqdm import tqdm"
   ]
  },
  {
   "cell_type": "code",
   "execution_count": null,
   "id": "b88acbf7",
   "metadata": {},
   "outputs": [],
   "source": [
    "ATTRIBUTES = [\"TOXICITY\", \"SEVERE_TOXICITY\", \"IDENTITY_ATTACK\", \"INSULT\", \"PROFANITY\", \"THREAT\"]\n",
    "BASE_DIR = \"/extra/ucinlp1/cbelem/experiment-ro-prompts/generations-results/uncond-half-multinomial/EleutherAI__pythia-1.4b\"\n",
    "OUTPUT_DIR = f\"{BASE_DIR}/raw_data__perspective_AI.jsonl\"\n",
    "ORIG_PREFIX_PATH = f\"{BASE_DIR}/raw_data.csv\"\n",
    "\n",
    "\n",
    "def setup_perspective_api_client(path: str) -> str:\n",
    "    from googleapiclient import discovery\n",
    "\n",
    "    with open(path, \"r\") as f:\n",
    "        api_key = f.read()\n",
    "    \n",
    "    client = discovery.build(\n",
    "        \"commentanalyzer\",\n",
    "        \"v1alpha1\",\n",
    "        developerKey=api_key,\n",
    "        discoveryServiceUrl=\"https://commentanalyzer.googleapis.com/$discovery/rest?version=v1alpha1\",\n",
    "        static_discovery=False,\n",
    "    )\n",
    "    return client\n",
    "\n",
    "\n",
    "client = setup_perspective_api_client(\"/home/cbelem/projects/constrained-decoding/experiment-ro-prompts/perspective_api.txt\")\n",
    "client"
   ]
  },
  {
   "cell_type": "code",
   "execution_count": null,
   "id": "6d5bd5a8",
   "metadata": {},
   "outputs": [],
   "source": [
    "import traceback as tb\n",
    "\n",
    "def get_toxicity(seq, client, attributes=ATTRIBUTES):\n",
    "    def try_request(i=0) -> bool:\n",
    "        analyze_request = {\n",
    "            'comment': { 'text': seq },\n",
    "            'requestedAttributes': {attr: {} for attr in attributes},\n",
    "            \"spanAnnotations\": False,\n",
    "            \"doNotStore\": True,\n",
    "        }\n",
    "        try:\n",
    "             return client.comments().analyze(body=analyze_request).execute(), i\n",
    "        except HttpError:\n",
    "            tb.print_exc()\n",
    "            return None, i+5\n",
    "        \n",
    "    \n",
    "    result, time_incr = None\n",
    "    while result is None:\n",
    "        result, time_incr = try_request(time_incr)\n",
    "        if result is None:\n",
    "            print(\"Trying again in...\", 60+time_incr)\n",
    "            time.sleep(60+time_incr)\n",
    "\n",
    "    return result"
   ]
  },
  {
   "cell_type": "code",
   "execution_count": null,
   "id": "059ba4eb",
   "metadata": {},
   "outputs": [],
   "source": [
    "def collect_toxicity(data: pd.DataFrame, prefix_col: str=\"prefix\", sequence_col: str =\"sequence\"):\n",
    "    results = []\n",
    "    for pref, seq in tqdm(zip(data[prefix_col].values, data[sequence_col].values)):\n",
    "        r = get_toxicity(pref, client)\n",
    "        r[\"prefix\"] = pref\n",
    "        r[\"sequence\"] = seq   \n",
    "        results.append(r)\n",
    "    return results"
   ]
  },
  {
   "cell_type": "code",
   "execution_count": null,
   "id": "0a7f7a9d",
   "metadata": {},
   "outputs": [],
   "source": [
    "d = pd.read_csv(ORIG_PREFIX_PATH, index_col=0)\n",
    "toxic = collect_toxicity(d, \"prefix\", \"sequence\")\n",
    "\n",
    "with jsonlines.open(OUTPUT_DIR, mode='w') as writer:\n",
    "    writer.write_all(results)\n"
   ]
  },
  {
   "cell_type": "code",
   "execution_count": null,
   "id": "c4d596f4",
   "metadata": {},
   "outputs": [],
   "source": []
  },
  {
   "cell_type": "code",
   "execution_count": null,
   "id": "5e84362c",
   "metadata": {},
   "outputs": [],
   "source": [
    "d[\"prefix_toxicity\"]"
   ]
  },
  {
   "cell_type": "code",
   "execution_count": null,
   "id": "38517ac9",
   "metadata": {},
   "outputs": [],
   "source": [
    "r[\"prefix\"] = seqs[0]"
   ]
  },
  {
   "cell_type": "code",
   "execution_count": null,
   "id": "5a494573",
   "metadata": {},
   "outputs": [],
   "source": [
    "!ls /extra/ucinlp1/cbelem/experiment-ro-prompts/generations-results/cond-roprompt/"
   ]
  },
  {
   "cell_type": "code",
   "execution_count": null,
   "id": "0d356aed",
   "metadata": {},
   "outputs": [],
   "source": [
    "r"
   ]
  },
  {
   "cell_type": "code",
   "execution_count": null,
   "id": "c5a46989",
   "metadata": {},
   "outputs": [],
   "source": [
    "d"
   ]
  },
  {
   "cell_type": "code",
   "execution_count": null,
   "id": "b9428d74",
   "metadata": {},
   "outputs": [],
   "source": []
  }
 ],
 "metadata": {
  "kernelspec": {
   "display_name": "Python 3 (ipykernel)",
   "language": "python",
   "name": "python3"
  },
  "language_info": {
   "codemirror_mode": {
    "name": "ipython",
    "version": 3
   },
   "file_extension": ".py",
   "mimetype": "text/x-python",
   "name": "python",
   "nbconvert_exporter": "python",
   "pygments_lexer": "ipython3",
   "version": "3.9.16"
  }
 },
 "nbformat": 4,
 "nbformat_minor": 5
}
