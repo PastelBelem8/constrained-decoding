{
 "cells": [
  {
   "cell_type": "code",
   "execution_count": 1,
   "id": "903662d3",
   "metadata": {},
   "outputs": [],
   "source": [
    "import json\n",
    "import pandas as pd\n",
    "import numpy as np"
   ]
  },
  {
   "cell_type": "markdown",
   "id": "25fcbfa8",
   "metadata": {},
   "source": [
    "### Load RO-Prompt Data"
   ]
  },
  {
   "cell_type": "code",
   "execution_count": 8,
   "id": "c83625cc",
   "metadata": {},
   "outputs": [],
   "source": [
    "def tabulate_ro_prompt_data(filepath: str) -> pd.DataFrame:\n",
    "    \"\"\"Processes the ro prompt original data.\"\"\"\n",
    "    \n",
    "    with jsonlines.open(filepath, 'r') as jsonl_f:\n",
    "         data = [obj for obj in jsonl_f]\n",
    "        \n",
    "    results = []\n",
    "    for record in data:\n",
    "        record_data = {}\n",
    "        prompt_data = {f\"prefix_{k}\": v for k, v in record[\"prompt\"].items()}\n",
    "        continuation_data = {f\"continuation_{k}\": v for k, v in record[\"continuation\"].items()}\n",
    "        record_data.update(**prompt_data)\n",
    "        record_data.update(**continuation_data)\n",
    "        results.append(record_data)\n",
    "    \n",
    "    print(\"Number of records:\", len(results))\n",
    "    return pd.DataFrame.from_records(results)"
   ]
  },
  {
   "cell_type": "code",
   "execution_count": 9,
   "id": "fb0d7865",
   "metadata": {},
   "outputs": [
    {
     "name": "stdout",
     "output_type": "stream",
     "text": [
      "Number of records: 99442\n"
     ]
    }
   ],
   "source": [
    "import jsonlines\n",
    "RO_PROMPT_DATASET_FILEPATH = \"../realtoxicityprompts-data/prompts.jsonl\"\n",
    "dataset = tabulate_ro_prompt_data(RO_PROMPT_DATASET_FILEPATH)\n",
    "# Persist it\n",
    "dataset.to_csv(\"/extra/ucinlp1/cbelem/experiment-ro-prompts/generations/cond-roprompt/raw_data.csv\")"
   ]
  },
  {
   "cell_type": "code",
   "execution_count": 19,
   "id": "58d9ce7b",
   "metadata": {},
   "outputs": [
    {
     "data": {
      "text/plain": [
       "Index(['prefix_text', 'prefix_profanity', 'prefix_sexually_explicit',\n",
       "       'prefix_identity_attack', 'prefix_flirtation', 'prefix_threat',\n",
       "       'prefix_insult', 'prefix_severe_toxicity', 'prefix_toxicity',\n",
       "       'continuation_text', 'continuation_severe_toxicity',\n",
       "       'continuation_toxicity', 'continuation_profanity',\n",
       "       'continuation_sexually_explicit', 'continuation_identity_attack',\n",
       "       'continuation_flirtation', 'continuation_threat',\n",
       "       'continuation_insult'],\n",
       "      dtype='object')"
      ]
     },
     "execution_count": 19,
     "metadata": {},
     "output_type": "execute_result"
    }
   ],
   "source": [
    "dataset.columns"
   ]
  },
  {
   "cell_type": "code",
   "execution_count": 20,
   "id": "0d711f00",
   "metadata": {},
   "outputs": [
    {
     "data": {
      "text/plain": [
       "99117"
      ]
     },
     "execution_count": 20,
     "metadata": {},
     "output_type": "execute_result"
    }
   ],
   "source": [
    "dataset.prefix_text.nunique()"
   ]
  },
  {
   "cell_type": "code",
   "execution_count": null,
   "id": "b994def9",
   "metadata": {},
   "outputs": [],
   "source": []
  }
 ],
 "metadata": {
  "kernelspec": {
   "display_name": "Python 3 (ipykernel)",
   "language": "python",
   "name": "python3"
  },
  "language_info": {
   "codemirror_mode": {
    "name": "ipython",
    "version": 3
   },
   "file_extension": ".py",
   "mimetype": "text/x-python",
   "name": "python",
   "nbconvert_exporter": "python",
   "pygments_lexer": "ipython3",
   "version": "3.9.16"
  }
 },
 "nbformat": 4,
 "nbformat_minor": 5
}
