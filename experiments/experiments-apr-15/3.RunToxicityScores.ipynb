{
 "cells": [
  {
   "cell_type": "code",
   "execution_count": null,
   "id": "6949a89e",
   "metadata": {},
   "outputs": [],
   "source": [
    "BASE_DIR = \"/extra/ucinlp1/cbelem/experiments-apr-15/data\"\n",
    "\n",
    "TARGET_WORDS = [\n",
    "    \"muslim\",\n",
    "    \"jewish\",\n",
    "    \"buddhist\",\n",
    "    \"christian\",\n",
    "    # \n",
    "    \"doctor\",\n",
    "    \"nurse\",\n",
    "    \"mother\",\n",
    "    \"father\",\n",
    "    # \n",
    "]\n",
    "\n",
    "BASE_PATHS = [f\"{BASE_DIR}/{t}.csv\" for t in TARGET_WORDS]\n",
    "BASE_DATA = [pd.read_csv(p, index_col=0) for p in BASE_PATHS]"
   ]
  }
 ],
 "metadata": {
  "kernelspec": {
   "display_name": "Python 3 (ipykernel)",
   "language": "python",
   "name": "python3"
  },
  "language_info": {
   "codemirror_mode": {
    "name": "ipython",
    "version": 3
   },
   "file_extension": ".py",
   "mimetype": "text/x-python",
   "name": "python",
   "nbconvert_exporter": "python",
   "pygments_lexer": "ipython3",
   "version": "3.9.16"
  }
 },
 "nbformat": 4,
 "nbformat_minor": 5
}
