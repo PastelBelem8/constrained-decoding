{
 "cells": [
  {
   "cell_type": "code",
   "execution_count": 1,
   "id": "dc5aedce",
   "metadata": {},
   "outputs": [],
   "source": [
    "import pandas as pd\n",
    "import numpy as np"
   ]
  },
  {
   "cell_type": "code",
   "execution_count": null,
   "id": "6b56d595",
   "metadata": {},
   "outputs": [],
   "source": [
    "BASE_DIR = \"/extra/ucinlp1/cbelem/experiments-apr-15/data\"\n",
    "\n",
    "TARGET_WORDS = [\n",
    "    \"muslim\",\n",
    "    \"jewish\",\n",
    "    \"buddhist\",\n",
    "    \"christian\",\n",
    "    # \n",
    "    \"doctor\",\n",
    "    \"nurse\",\n",
    "    \"mother\",\n",
    "    \"father\",\n",
    "    # \n",
    "]\n",
    "\n",
    "BASE_PATHS = [f\"{BASE_DIR}/{t}.csv\" for t in TARGET_WORDS]\n",
    "BASE_DATA = [pd.read_csv(p, index_col=0) for p in BASE_PATHS]"
   ]
  },
  {
   "cell_type": "code",
   "execution_count": null,
   "id": "1e0bd5be",
   "metadata": {},
   "outputs": [],
   "source": []
  },
  {
   "cell_type": "code",
   "execution_count": 3,
   "id": "e2f76db7",
   "metadata": {},
   "outputs": [],
   "source": [
    "d = pd.read_csv(\"/extra/ucinlp1/cbelem/experiments-apr-15/models/EleutherAI__pythia-70m/buddhist_min_prefix.csv\")"
   ]
  },
  {
   "cell_type": "code",
   "execution_count": 9,
   "id": "89144061",
   "metadata": {},
   "outputs": [
    {
     "data": {
      "text/plain": [
       "count    130.000000\n",
       "mean     167.600000\n",
       "std       61.701909\n",
       "min       55.000000\n",
       "25%      118.000000\n",
       "50%      190.500000\n",
       "75%      200.000000\n",
       "max      262.000000\n",
       "Name: prefix, dtype: float64"
      ]
     },
     "execution_count": 9,
     "metadata": {},
     "output_type": "execute_result"
    }
   ],
   "source": [
    "d[\"prefix\"].apply(len).describe()"
   ]
  },
  {
   "cell_type": "code",
   "execution_count": 8,
   "id": "3da0adc5",
   "metadata": {},
   "outputs": [
    {
     "data": {
      "text/plain": [
       "count    130.000000\n",
       "mean     246.030769\n",
       "std       57.428208\n",
       "min      123.000000\n",
       "25%      192.750000\n",
       "50%      261.000000\n",
       "75%      286.000000\n",
       "max      349.000000\n",
       "Name: sequence, dtype: float64"
      ]
     },
     "execution_count": 8,
     "metadata": {},
     "output_type": "execute_result"
    }
   ],
   "source": [
    "d[\"sequence\"].apply(len).describe()"
   ]
  },
  {
   "cell_type": "code",
   "execution_count": null,
   "id": "dc230f33",
   "metadata": {},
   "outputs": [],
   "source": []
  }
 ],
 "metadata": {
  "kernelspec": {
   "display_name": "Python 3 (ipykernel)",
   "language": "python",
   "name": "python3"
  },
  "language_info": {
   "codemirror_mode": {
    "name": "ipython",
    "version": 3
   },
   "file_extension": ".py",
   "mimetype": "text/x-python",
   "name": "python",
   "nbconvert_exporter": "python",
   "pygments_lexer": "ipython3",
   "version": "3.9.16"
  }
 },
 "nbformat": 4,
 "nbformat_minor": 5
}
