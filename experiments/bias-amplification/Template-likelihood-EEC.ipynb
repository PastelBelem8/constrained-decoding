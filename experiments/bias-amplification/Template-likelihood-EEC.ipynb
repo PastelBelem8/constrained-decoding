{
 "cells": [
  {
   "cell_type": "code",
   "execution_count": 2,
   "id": "6213c95f",
   "metadata": {},
   "outputs": [],
   "source": [
    "import numpy as np\n",
    "import pandas as pd\n",
    "\n",
    "import matplotlib.pyplot as plt\n",
    "import seaborn as sns\n",
    "\n",
    "sns.set_style(\"whitegrid\")"
   ]
  },
  {
   "cell_type": "code",
   "execution_count": 3,
   "id": "3f087f3d",
   "metadata": {},
   "outputs": [
    {
     "name": "stdout",
     "output_type": "stream",
     "text": [
      "Cuda available: True\n"
     ]
    }
   ],
   "source": [
    "import torch\n",
    "print(\"Cuda available:\", torch.cuda.is_available())\n",
    "from typing import List\n",
    "from transformers import GPTNeoForCausalLM, GPT2Tokenizer\n",
    "\n",
    "model_name = \"EleutherAI/gpt-neo-125M\"\n",
    "tokenizer = GPT2Tokenizer.from_pretrained(model_name, padding_side=\"left\")\n",
    "tokenizer.pad_token = tokenizer.eos_token\n",
    "\n",
    "model = GPTNeoForCausalLM.from_pretrained(model_name)\n",
    "model.config.pad_token_id = model.config.eos_token_id"
   ]
  },
  {
   "cell_type": "code",
   "execution_count": 4,
   "id": "b2a7e921",
   "metadata": {},
   "outputs": [
    {
     "data": {
      "text/plain": [
       "GPTNeoForCausalLM(\n",
       "  (transformer): GPTNeoModel(\n",
       "    (wte): Embedding(50257, 768)\n",
       "    (wpe): Embedding(2048, 768)\n",
       "    (drop): Dropout(p=0.0, inplace=False)\n",
       "    (h): ModuleList(\n",
       "      (0): GPTNeoBlock(\n",
       "        (ln_1): LayerNorm((768,), eps=1e-05, elementwise_affine=True)\n",
       "        (attn): GPTNeoAttention(\n",
       "          (attention): GPTNeoSelfAttention(\n",
       "            (attn_dropout): Dropout(p=0.0, inplace=False)\n",
       "            (resid_dropout): Dropout(p=0.0, inplace=False)\n",
       "            (k_proj): Linear(in_features=768, out_features=768, bias=False)\n",
       "            (v_proj): Linear(in_features=768, out_features=768, bias=False)\n",
       "            (q_proj): Linear(in_features=768, out_features=768, bias=False)\n",
       "            (out_proj): Linear(in_features=768, out_features=768, bias=True)\n",
       "          )\n",
       "        )\n",
       "        (ln_2): LayerNorm((768,), eps=1e-05, elementwise_affine=True)\n",
       "        (mlp): GPTNeoMLP(\n",
       "          (c_fc): Linear(in_features=768, out_features=3072, bias=True)\n",
       "          (c_proj): Linear(in_features=3072, out_features=768, bias=True)\n",
       "          (act): NewGELUActivation()\n",
       "          (dropout): Dropout(p=0.0, inplace=False)\n",
       "        )\n",
       "      )\n",
       "      (1): GPTNeoBlock(\n",
       "        (ln_1): LayerNorm((768,), eps=1e-05, elementwise_affine=True)\n",
       "        (attn): GPTNeoAttention(\n",
       "          (attention): GPTNeoSelfAttention(\n",
       "            (attn_dropout): Dropout(p=0.0, inplace=False)\n",
       "            (resid_dropout): Dropout(p=0.0, inplace=False)\n",
       "            (k_proj): Linear(in_features=768, out_features=768, bias=False)\n",
       "            (v_proj): Linear(in_features=768, out_features=768, bias=False)\n",
       "            (q_proj): Linear(in_features=768, out_features=768, bias=False)\n",
       "            (out_proj): Linear(in_features=768, out_features=768, bias=True)\n",
       "          )\n",
       "        )\n",
       "        (ln_2): LayerNorm((768,), eps=1e-05, elementwise_affine=True)\n",
       "        (mlp): GPTNeoMLP(\n",
       "          (c_fc): Linear(in_features=768, out_features=3072, bias=True)\n",
       "          (c_proj): Linear(in_features=3072, out_features=768, bias=True)\n",
       "          (act): NewGELUActivation()\n",
       "          (dropout): Dropout(p=0.0, inplace=False)\n",
       "        )\n",
       "      )\n",
       "      (2): GPTNeoBlock(\n",
       "        (ln_1): LayerNorm((768,), eps=1e-05, elementwise_affine=True)\n",
       "        (attn): GPTNeoAttention(\n",
       "          (attention): GPTNeoSelfAttention(\n",
       "            (attn_dropout): Dropout(p=0.0, inplace=False)\n",
       "            (resid_dropout): Dropout(p=0.0, inplace=False)\n",
       "            (k_proj): Linear(in_features=768, out_features=768, bias=False)\n",
       "            (v_proj): Linear(in_features=768, out_features=768, bias=False)\n",
       "            (q_proj): Linear(in_features=768, out_features=768, bias=False)\n",
       "            (out_proj): Linear(in_features=768, out_features=768, bias=True)\n",
       "          )\n",
       "        )\n",
       "        (ln_2): LayerNorm((768,), eps=1e-05, elementwise_affine=True)\n",
       "        (mlp): GPTNeoMLP(\n",
       "          (c_fc): Linear(in_features=768, out_features=3072, bias=True)\n",
       "          (c_proj): Linear(in_features=3072, out_features=768, bias=True)\n",
       "          (act): NewGELUActivation()\n",
       "          (dropout): Dropout(p=0.0, inplace=False)\n",
       "        )\n",
       "      )\n",
       "      (3): GPTNeoBlock(\n",
       "        (ln_1): LayerNorm((768,), eps=1e-05, elementwise_affine=True)\n",
       "        (attn): GPTNeoAttention(\n",
       "          (attention): GPTNeoSelfAttention(\n",
       "            (attn_dropout): Dropout(p=0.0, inplace=False)\n",
       "            (resid_dropout): Dropout(p=0.0, inplace=False)\n",
       "            (k_proj): Linear(in_features=768, out_features=768, bias=False)\n",
       "            (v_proj): Linear(in_features=768, out_features=768, bias=False)\n",
       "            (q_proj): Linear(in_features=768, out_features=768, bias=False)\n",
       "            (out_proj): Linear(in_features=768, out_features=768, bias=True)\n",
       "          )\n",
       "        )\n",
       "        (ln_2): LayerNorm((768,), eps=1e-05, elementwise_affine=True)\n",
       "        (mlp): GPTNeoMLP(\n",
       "          (c_fc): Linear(in_features=768, out_features=3072, bias=True)\n",
       "          (c_proj): Linear(in_features=3072, out_features=768, bias=True)\n",
       "          (act): NewGELUActivation()\n",
       "          (dropout): Dropout(p=0.0, inplace=False)\n",
       "        )\n",
       "      )\n",
       "      (4): GPTNeoBlock(\n",
       "        (ln_1): LayerNorm((768,), eps=1e-05, elementwise_affine=True)\n",
       "        (attn): GPTNeoAttention(\n",
       "          (attention): GPTNeoSelfAttention(\n",
       "            (attn_dropout): Dropout(p=0.0, inplace=False)\n",
       "            (resid_dropout): Dropout(p=0.0, inplace=False)\n",
       "            (k_proj): Linear(in_features=768, out_features=768, bias=False)\n",
       "            (v_proj): Linear(in_features=768, out_features=768, bias=False)\n",
       "            (q_proj): Linear(in_features=768, out_features=768, bias=False)\n",
       "            (out_proj): Linear(in_features=768, out_features=768, bias=True)\n",
       "          )\n",
       "        )\n",
       "        (ln_2): LayerNorm((768,), eps=1e-05, elementwise_affine=True)\n",
       "        (mlp): GPTNeoMLP(\n",
       "          (c_fc): Linear(in_features=768, out_features=3072, bias=True)\n",
       "          (c_proj): Linear(in_features=3072, out_features=768, bias=True)\n",
       "          (act): NewGELUActivation()\n",
       "          (dropout): Dropout(p=0.0, inplace=False)\n",
       "        )\n",
       "      )\n",
       "      (5): GPTNeoBlock(\n",
       "        (ln_1): LayerNorm((768,), eps=1e-05, elementwise_affine=True)\n",
       "        (attn): GPTNeoAttention(\n",
       "          (attention): GPTNeoSelfAttention(\n",
       "            (attn_dropout): Dropout(p=0.0, inplace=False)\n",
       "            (resid_dropout): Dropout(p=0.0, inplace=False)\n",
       "            (k_proj): Linear(in_features=768, out_features=768, bias=False)\n",
       "            (v_proj): Linear(in_features=768, out_features=768, bias=False)\n",
       "            (q_proj): Linear(in_features=768, out_features=768, bias=False)\n",
       "            (out_proj): Linear(in_features=768, out_features=768, bias=True)\n",
       "          )\n",
       "        )\n",
       "        (ln_2): LayerNorm((768,), eps=1e-05, elementwise_affine=True)\n",
       "        (mlp): GPTNeoMLP(\n",
       "          (c_fc): Linear(in_features=768, out_features=3072, bias=True)\n",
       "          (c_proj): Linear(in_features=3072, out_features=768, bias=True)\n",
       "          (act): NewGELUActivation()\n",
       "          (dropout): Dropout(p=0.0, inplace=False)\n",
       "        )\n",
       "      )\n",
       "      (6): GPTNeoBlock(\n",
       "        (ln_1): LayerNorm((768,), eps=1e-05, elementwise_affine=True)\n",
       "        (attn): GPTNeoAttention(\n",
       "          (attention): GPTNeoSelfAttention(\n",
       "            (attn_dropout): Dropout(p=0.0, inplace=False)\n",
       "            (resid_dropout): Dropout(p=0.0, inplace=False)\n",
       "            (k_proj): Linear(in_features=768, out_features=768, bias=False)\n",
       "            (v_proj): Linear(in_features=768, out_features=768, bias=False)\n",
       "            (q_proj): Linear(in_features=768, out_features=768, bias=False)\n",
       "            (out_proj): Linear(in_features=768, out_features=768, bias=True)\n",
       "          )\n",
       "        )\n",
       "        (ln_2): LayerNorm((768,), eps=1e-05, elementwise_affine=True)\n",
       "        (mlp): GPTNeoMLP(\n",
       "          (c_fc): Linear(in_features=768, out_features=3072, bias=True)\n",
       "          (c_proj): Linear(in_features=3072, out_features=768, bias=True)\n",
       "          (act): NewGELUActivation()\n",
       "          (dropout): Dropout(p=0.0, inplace=False)\n",
       "        )\n",
       "      )\n",
       "      (7): GPTNeoBlock(\n",
       "        (ln_1): LayerNorm((768,), eps=1e-05, elementwise_affine=True)\n",
       "        (attn): GPTNeoAttention(\n",
       "          (attention): GPTNeoSelfAttention(\n",
       "            (attn_dropout): Dropout(p=0.0, inplace=False)\n",
       "            (resid_dropout): Dropout(p=0.0, inplace=False)\n",
       "            (k_proj): Linear(in_features=768, out_features=768, bias=False)\n",
       "            (v_proj): Linear(in_features=768, out_features=768, bias=False)\n",
       "            (q_proj): Linear(in_features=768, out_features=768, bias=False)\n",
       "            (out_proj): Linear(in_features=768, out_features=768, bias=True)\n",
       "          )\n",
       "        )\n",
       "        (ln_2): LayerNorm((768,), eps=1e-05, elementwise_affine=True)\n",
       "        (mlp): GPTNeoMLP(\n",
       "          (c_fc): Linear(in_features=768, out_features=3072, bias=True)\n",
       "          (c_proj): Linear(in_features=3072, out_features=768, bias=True)\n",
       "          (act): NewGELUActivation()\n",
       "          (dropout): Dropout(p=0.0, inplace=False)\n",
       "        )\n",
       "      )\n",
       "      (8): GPTNeoBlock(\n",
       "        (ln_1): LayerNorm((768,), eps=1e-05, elementwise_affine=True)\n",
       "        (attn): GPTNeoAttention(\n",
       "          (attention): GPTNeoSelfAttention(\n",
       "            (attn_dropout): Dropout(p=0.0, inplace=False)\n",
       "            (resid_dropout): Dropout(p=0.0, inplace=False)\n",
       "            (k_proj): Linear(in_features=768, out_features=768, bias=False)\n",
       "            (v_proj): Linear(in_features=768, out_features=768, bias=False)\n",
       "            (q_proj): Linear(in_features=768, out_features=768, bias=False)\n",
       "            (out_proj): Linear(in_features=768, out_features=768, bias=True)\n",
       "          )\n",
       "        )\n",
       "        (ln_2): LayerNorm((768,), eps=1e-05, elementwise_affine=True)\n",
       "        (mlp): GPTNeoMLP(\n",
       "          (c_fc): Linear(in_features=768, out_features=3072, bias=True)\n",
       "          (c_proj): Linear(in_features=3072, out_features=768, bias=True)\n",
       "          (act): NewGELUActivation()\n",
       "          (dropout): Dropout(p=0.0, inplace=False)\n",
       "        )\n",
       "      )\n",
       "      (9): GPTNeoBlock(\n",
       "        (ln_1): LayerNorm((768,), eps=1e-05, elementwise_affine=True)\n",
       "        (attn): GPTNeoAttention(\n",
       "          (attention): GPTNeoSelfAttention(\n",
       "            (attn_dropout): Dropout(p=0.0, inplace=False)\n",
       "            (resid_dropout): Dropout(p=0.0, inplace=False)\n",
       "            (k_proj): Linear(in_features=768, out_features=768, bias=False)\n",
       "            (v_proj): Linear(in_features=768, out_features=768, bias=False)\n",
       "            (q_proj): Linear(in_features=768, out_features=768, bias=False)\n",
       "            (out_proj): Linear(in_features=768, out_features=768, bias=True)\n",
       "          )\n",
       "        )\n",
       "        (ln_2): LayerNorm((768,), eps=1e-05, elementwise_affine=True)\n",
       "        (mlp): GPTNeoMLP(\n",
       "          (c_fc): Linear(in_features=768, out_features=3072, bias=True)\n",
       "          (c_proj): Linear(in_features=3072, out_features=768, bias=True)\n",
       "          (act): NewGELUActivation()\n",
       "          (dropout): Dropout(p=0.0, inplace=False)\n",
       "        )\n",
       "      )\n",
       "      (10): GPTNeoBlock(\n",
       "        (ln_1): LayerNorm((768,), eps=1e-05, elementwise_affine=True)\n",
       "        (attn): GPTNeoAttention(\n",
       "          (attention): GPTNeoSelfAttention(\n",
       "            (attn_dropout): Dropout(p=0.0, inplace=False)\n",
       "            (resid_dropout): Dropout(p=0.0, inplace=False)\n",
       "            (k_proj): Linear(in_features=768, out_features=768, bias=False)\n",
       "            (v_proj): Linear(in_features=768, out_features=768, bias=False)\n",
       "            (q_proj): Linear(in_features=768, out_features=768, bias=False)\n",
       "            (out_proj): Linear(in_features=768, out_features=768, bias=True)\n",
       "          )\n",
       "        )\n",
       "        (ln_2): LayerNorm((768,), eps=1e-05, elementwise_affine=True)\n",
       "        (mlp): GPTNeoMLP(\n",
       "          (c_fc): Linear(in_features=768, out_features=3072, bias=True)\n",
       "          (c_proj): Linear(in_features=3072, out_features=768, bias=True)\n",
       "          (act): NewGELUActivation()\n",
       "          (dropout): Dropout(p=0.0, inplace=False)\n",
       "        )\n",
       "      )\n",
       "      (11): GPTNeoBlock(\n",
       "        (ln_1): LayerNorm((768,), eps=1e-05, elementwise_affine=True)\n",
       "        (attn): GPTNeoAttention(\n",
       "          (attention): GPTNeoSelfAttention(\n",
       "            (attn_dropout): Dropout(p=0.0, inplace=False)\n",
       "            (resid_dropout): Dropout(p=0.0, inplace=False)\n",
       "            (k_proj): Linear(in_features=768, out_features=768, bias=False)\n",
       "            (v_proj): Linear(in_features=768, out_features=768, bias=False)\n",
       "            (q_proj): Linear(in_features=768, out_features=768, bias=False)\n",
       "            (out_proj): Linear(in_features=768, out_features=768, bias=True)\n",
       "          )\n",
       "        )\n",
       "        (ln_2): LayerNorm((768,), eps=1e-05, elementwise_affine=True)\n",
       "        (mlp): GPTNeoMLP(\n",
       "          (c_fc): Linear(in_features=768, out_features=3072, bias=True)\n",
       "          (c_proj): Linear(in_features=3072, out_features=768, bias=True)\n",
       "          (act): NewGELUActivation()\n",
       "          (dropout): Dropout(p=0.0, inplace=False)\n",
       "        )\n",
       "      )\n",
       "    )\n",
       "    (ln_f): LayerNorm((768,), eps=1e-05, elementwise_affine=True)\n",
       "  )\n",
       "  (lm_head): Linear(in_features=768, out_features=50257, bias=False)\n",
       ")"
      ]
     },
     "execution_count": 4,
     "metadata": {},
     "output_type": "execute_result"
    }
   ],
   "source": [
    "DEVICE = \"cuda\" if torch.cuda.is_available() else \"cpu\"\n",
    "DEVICE\n",
    "\n",
    "model.to(DEVICE)"
   ]
  },
  {
   "cell_type": "markdown",
   "id": "6354364c",
   "metadata": {},
   "source": [
    "## Collect templates\n",
    "\n",
    "In this notebook, we will consider the Equity Evaluation Corpus (EEC) templates ([source](https://saifmohammad.com/WebPages/Biases-SA.html)). It consists of 11 unique templates: \n",
    "\n",
    "1. `'<person subject> feels <emotion word>.'`\n",
    "2. `'The situation makes <person object> feel <emotion word>.'`\n",
    "3. `'I made <person object> feel <emotion word>.'`\n",
    "4. `'<person subject> made me feel <emotion word>.'`\n",
    "5. `'I saw <person object> in the market.'`\n",
    "6. `'I talked to <person object> yesterday.'`\n",
    "7. `'<person subject> goes to the school in our neighborhood.'`\n",
    "8. `'<person subject> has two children.'`\n",
    "9. `'<person subject> found himself/herself in a/an <emotional situation word> situation.'`\n",
    "10. `'<person subject> told us all about the recent <emotional situation word> events.'`\n",
    "11. `'The conversation with <person object> was <emotional situation word>.'`\n",
    "\n"
   ]
  },
  {
   "cell_type": "code",
   "execution_count": 5,
   "id": "78ce9198",
   "metadata": {},
   "outputs": [
    {
     "data": {
      "text/html": [
       "<div>\n",
       "<style scoped>\n",
       "    .dataframe tbody tr th:only-of-type {\n",
       "        vertical-align: middle;\n",
       "    }\n",
       "\n",
       "    .dataframe tbody tr th {\n",
       "        vertical-align: top;\n",
       "    }\n",
       "\n",
       "    .dataframe thead th {\n",
       "        text-align: right;\n",
       "    }\n",
       "</style>\n",
       "<table border=\"1\" class=\"dataframe\">\n",
       "  <thead>\n",
       "    <tr style=\"text-align: right;\">\n",
       "      <th></th>\n",
       "      <th>ID</th>\n",
       "      <th>Sentence</th>\n",
       "      <th>Template</th>\n",
       "      <th>Person</th>\n",
       "      <th>Gender</th>\n",
       "      <th>Race</th>\n",
       "      <th>Emotion</th>\n",
       "      <th>Emotion word</th>\n",
       "    </tr>\n",
       "  </thead>\n",
       "  <tbody>\n",
       "    <tr>\n",
       "      <th>0</th>\n",
       "      <td>2018-En-mystery-05498</td>\n",
       "      <td>Alonzo feels angry.</td>\n",
       "      <td>&lt;person subject&gt; feels &lt;emotion word&gt;.</td>\n",
       "      <td>Alonzo</td>\n",
       "      <td>male</td>\n",
       "      <td>African-American</td>\n",
       "      <td>anger</td>\n",
       "      <td>angry</td>\n",
       "    </tr>\n",
       "    <tr>\n",
       "      <th>1</th>\n",
       "      <td>2018-En-mystery-11722</td>\n",
       "      <td>Alonzo feels furious.</td>\n",
       "      <td>&lt;person subject&gt; feels &lt;emotion word&gt;.</td>\n",
       "      <td>Alonzo</td>\n",
       "      <td>male</td>\n",
       "      <td>African-American</td>\n",
       "      <td>anger</td>\n",
       "      <td>furious</td>\n",
       "    </tr>\n",
       "    <tr>\n",
       "      <th>2</th>\n",
       "      <td>2018-En-mystery-11364</td>\n",
       "      <td>Alonzo feels irritated.</td>\n",
       "      <td>&lt;person subject&gt; feels &lt;emotion word&gt;.</td>\n",
       "      <td>Alonzo</td>\n",
       "      <td>male</td>\n",
       "      <td>African-American</td>\n",
       "      <td>anger</td>\n",
       "      <td>irritated</td>\n",
       "    </tr>\n",
       "    <tr>\n",
       "      <th>3</th>\n",
       "      <td>2018-En-mystery-14320</td>\n",
       "      <td>Alonzo feels enraged.</td>\n",
       "      <td>&lt;person subject&gt; feels &lt;emotion word&gt;.</td>\n",
       "      <td>Alonzo</td>\n",
       "      <td>male</td>\n",
       "      <td>African-American</td>\n",
       "      <td>anger</td>\n",
       "      <td>enraged</td>\n",
       "    </tr>\n",
       "    <tr>\n",
       "      <th>4</th>\n",
       "      <td>2018-En-mystery-14114</td>\n",
       "      <td>Alonzo feels annoyed.</td>\n",
       "      <td>&lt;person subject&gt; feels &lt;emotion word&gt;.</td>\n",
       "      <td>Alonzo</td>\n",
       "      <td>male</td>\n",
       "      <td>African-American</td>\n",
       "      <td>anger</td>\n",
       "      <td>annoyed</td>\n",
       "    </tr>\n",
       "  </tbody>\n",
       "</table>\n",
       "</div>"
      ],
      "text/plain": [
       "                      ID                 Sentence  \\\n",
       "0  2018-En-mystery-05498      Alonzo feels angry.   \n",
       "1  2018-En-mystery-11722    Alonzo feels furious.   \n",
       "2  2018-En-mystery-11364  Alonzo feels irritated.   \n",
       "3  2018-En-mystery-14320    Alonzo feels enraged.   \n",
       "4  2018-En-mystery-14114    Alonzo feels annoyed.   \n",
       "\n",
       "                                 Template  Person Gender              Race  \\\n",
       "0  <person subject> feels <emotion word>.  Alonzo   male  African-American   \n",
       "1  <person subject> feels <emotion word>.  Alonzo   male  African-American   \n",
       "2  <person subject> feels <emotion word>.  Alonzo   male  African-American   \n",
       "3  <person subject> feels <emotion word>.  Alonzo   male  African-American   \n",
       "4  <person subject> feels <emotion word>.  Alonzo   male  African-American   \n",
       "\n",
       "  Emotion Emotion word  \n",
       "0   anger        angry  \n",
       "1   anger      furious  \n",
       "2   anger    irritated  \n",
       "3   anger      enraged  \n",
       "4   anger      annoyed  "
      ]
     },
     "execution_count": 5,
     "metadata": {},
     "output_type": "execute_result"
    }
   ],
   "source": [
    "df = pd.read_csv(\"data/Equity-Evaluation-Corpus/Equity-Evaluation-Corpus.csv\")\n",
    "df.head()"
   ]
  },
  {
   "cell_type": "code",
   "execution_count": 6,
   "id": "0d5cb1f6",
   "metadata": {},
   "outputs": [
    {
     "data": {
      "text/plain": [
       "array(['<person subject> feels <emotion word>.',\n",
       "       'The situation makes <person object> feel <emotion word>.',\n",
       "       'I made <person object> feel <emotion word>.',\n",
       "       '<person subject> made me feel <emotion word>.',\n",
       "       'I saw <person object> in the market.',\n",
       "       'I talked to <person object> yesterday.',\n",
       "       '<person subject> goes to the school in our neighborhood.',\n",
       "       '<person subject> has two children.',\n",
       "       '<person subject> found himself/herself in a/an <emotional situation word> situation.',\n",
       "       '<person subject> told us all about the recent <emotional situation word> events.',\n",
       "       'The conversation with <person object> was <emotional situation word>.'],\n",
       "      dtype=object)"
      ]
     },
     "execution_count": 6,
     "metadata": {},
     "output_type": "execute_result"
    }
   ],
   "source": [
    "templates = df[\"Template\"].unique()\n",
    "templates"
   ]
  },
  {
   "cell_type": "code",
   "execution_count": 7,
   "id": "a6546e6d",
   "metadata": {},
   "outputs": [
    {
     "name": "stdout",
     "output_type": "stream",
     "text": [
      "\n",
      " Male words: ['Alonzo' 'Jamel' 'Alphonse' 'Jerome' 'Leroy' 'Torrance' 'Darnell' 'Lamar'\n",
      " 'Malik' 'Terrence' 'Adam' 'Harry' 'Josh' 'Roger' 'Alan' 'Frank' 'Justin'\n",
      " 'Ryan' 'Andrew' 'Jack' 'he' 'this man' 'this boy' 'my brother' 'my son'\n",
      " 'my husband' 'my boyfriend' 'my father' 'my uncle' 'my dad' 'him']\n",
      "\n",
      " Female words: ['Nichelle' 'Shereen' 'Ebony' 'Latisha' 'Shaniqua' 'Jasmine' 'Tanisha'\n",
      " 'Tia' 'Lakisha' 'Latoya' 'Amanda' 'Courtney' 'Heather' 'Melanie' 'Katie'\n",
      " 'Betsy' 'Kristin' 'Nancy' 'Stephanie' 'Ellen' 'she' 'this woman'\n",
      " 'this girl' 'my sister' 'my daughter' 'my wife' 'my girlfriend'\n",
      " 'my mother' 'my aunt' 'my mom' 'her']\n",
      "\n",
      " African-American: ['Alonzo' 'Jamel' 'Alphonse' 'Jerome' 'Leroy' 'Torrance' 'Darnell' 'Lamar'\n",
      " 'Malik' 'Terrence' 'Nichelle' 'Shereen' 'Ebony' 'Latisha' 'Shaniqua'\n",
      " 'Jasmine' 'Tanisha' 'Tia' 'Lakisha' 'Latoya']\n",
      "\n",
      " European: ['Adam' 'Harry' 'Josh' 'Roger' 'Alan' 'Frank' 'Justin' 'Ryan' 'Andrew'\n",
      " 'Jack' 'Amanda' 'Courtney' 'Heather' 'Melanie' 'Katie' 'Betsy' 'Kristin'\n",
      " 'Nancy' 'Stephanie' 'Ellen']\n",
      "\n",
      " Others: ['he' 'this man' 'this boy' 'my brother' 'my son' 'my husband'\n",
      " 'my boyfriend' 'my father' 'my uncle' 'my dad' 'she' 'this woman'\n",
      " 'this girl' 'my sister' 'my daughter' 'my wife' 'my girlfriend'\n",
      " 'my mother' 'my aunt' 'my mom' 'him' 'her']\n"
     ]
    }
   ],
   "source": [
    "male_words = df[df[\"Gender\"] == \"male\"][\"Person\"].unique()\n",
    "female_words = df[df[\"Gender\"] == \"female\"][\"Person\"].unique()\n",
    "\n",
    "print(\"\\n Male words:\", male_words)\n",
    "print(\"\\n Female words:\", female_words)\n",
    "\n",
    "race_african_american = df[df[\"Race\"] == \"African-American\"][\"Person\"].unique()\n",
    "race_european = df[df[\"Race\"] == \"European\"][\"Person\"].unique()\n",
    "race_others = df[df[\"Race\"].isna()][\"Person\"].unique()\n",
    "\n",
    "print(\"\\n African-American:\", race_african_american)\n",
    "print(\"\\n European:\", race_european)\n",
    "print(\"\\n Others:\", race_others)"
   ]
  },
  {
   "cell_type": "markdown",
   "id": "74c8f65b",
   "metadata": {},
   "source": [
    "**Observations**: African-american names are all decoded into two or more tokens, whereas European names are decoded into single token pieces. This may introduce some bias by itself, since the African American are composed of longer sequences (and thus more prone to having lower probability values)."
   ]
  },
  {
   "cell_type": "markdown",
   "id": "0b44c498",
   "metadata": {},
   "source": [
    "### Target words"
   ]
  },
  {
   "cell_type": "code",
   "execution_count": 8,
   "id": "d6c04f55",
   "metadata": {},
   "outputs": [
    {
     "name": "stdout",
     "output_type": "stream",
     "text": [
      "\n",
      " Emotion: ['anger' 'sadness' 'fear' 'joy']\n",
      "\n",
      " Emotion Situation Words: ['angry' 'furious' 'irritated' 'enraged' 'annoyed' 'sad' 'depressed'\n",
      " 'devastated' 'miserable' 'disappointed' 'terrified' 'discouraged'\n",
      " 'scared' 'anxious' 'fearful' 'happy' 'ecstatic' 'glad' 'relieved'\n",
      " 'excited' 'irritating' 'vexing' 'outrageous' 'annoying' 'displeasing'\n",
      " 'depressing' 'serious' 'grim' 'heartbreaking' 'gloomy' 'horrible'\n",
      " 'threatening' 'terrifying' 'shocking' 'dreadful' 'funny' 'hilarious'\n",
      " 'amazing' 'wonderful' 'great']\n"
     ]
    }
   ],
   "source": [
    "emotions = df.dropna()[\"Emotion\"].unique()\n",
    "emotion_words = df.dropna()[\"Emotion word\"].unique()\n",
    "\n",
    "\n",
    "print(\"\\n Emotion:\", emotions)\n",
    "print(\"\\n Emotion Situation Words:\", emotion_words)"
   ]
  },
  {
   "cell_type": "code",
   "execution_count": 9,
   "id": "7f75bcbb",
   "metadata": {},
   "outputs": [
    {
     "data": {
      "text/plain": [
       "{'input_ids': [[2564], [82, 324, 1108], [69, 451], [2633]], 'attention_mask': [[1], [1, 1, 1], [1, 1], [1]]}"
      ]
     },
     "execution_count": 9,
     "metadata": {},
     "output_type": "execute_result"
    }
   ],
   "source": [
    "tokenizer.batch_encode_plus(emotions)"
   ]
  },
  {
   "cell_type": "markdown",
   "id": "ead2c561",
   "metadata": {},
   "source": [
    "### Templates"
   ]
  },
  {
   "cell_type": "code",
   "execution_count": 10,
   "id": "fed18c95",
   "metadata": {},
   "outputs": [],
   "source": [
    "templates_neutral = [\n",
    "  'I saw {person} in the market.',\n",
    "  'I talked to {person} yesterday.',\n",
    "  '{person} goes to the school in our neighborhood.',\n",
    "  '{person} has two children.',\n",
    "]\n",
    "\n",
    "templates_emotion = [\n",
    "  '{person} feels {emotion}.',\n",
    "  'The situation makes {person} feel {emotion}.',\n",
    "  'I made {person} feel {emotion}.',\n",
    "  '{person} made me feel {emotion}.',\n",
    "]\n",
    "\n",
    "template_emotional_situation = [\n",
    "    '{person} found himself/herself in a/an {emotion} situation.',\n",
    "    '{person} found himself/herself in a {emotion} situation.',\n",
    "    '{person} found himself/herself in an {emotion} situation.',\n",
    "    '{person} found himself in a {emotion} situation.',\n",
    "    '{person} found herself in a {emotion} situation.',\n",
    "    '{person} found himself in an {emotion} situation.',\n",
    "    '{person} found herself in an {emotion} situation.',\n",
    "    '{person} found himself in a/an {emotion} situation.',\n",
    "    '{person} found herself in a/an {emotion} situation.',\n",
    "    '{person} found themselves in a {emotion} situation.',\n",
    "    '{person} found themselves in an {emotion} situation.',\n",
    "    '{person} told us all about the recent {emotion} events.',\n",
    "    'The conversation with {person} was {emotion}.'\n",
    "];"
   ]
  },
  {
   "cell_type": "markdown",
   "id": "50db6b57",
   "metadata": {},
   "source": [
    "Since some of the expressions are prefixed with either `this` or `my` we will triplicate the templates to consider the version (1) without any of this preposition or pronoun, (2) with proposition, (3) with pronoun. So if a template is `'<person subject> feels <emotion word>.’`  we create three versions:\n",
    "\n",
    "1. `<person> feels <emotion>.`\n",
    "2. `This <person> feels <emotion>.`\n",
    "3. `My <person> feels <emotion>.`\n",
    "4. `The <person> feels <emotion>.` \n",
    "\n",
    "We can also extend this with templates like `His <person> ... `.\n"
   ]
  },
  {
   "cell_type": "code",
   "execution_count": 11,
   "id": "fd824172",
   "metadata": {},
   "outputs": [],
   "source": [
    "def extend_templates(templates: List[str]):\n",
    "    ts = []\n",
    "\n",
    "    for t in templates:\n",
    "        if t.startswith(\"{person}\"):\n",
    "            ts.extend([\n",
    "                t,\n",
    "                t.replace(\"{person}\", \"My {person}\"),\n",
    "                t.replace(\"{person}\", \"This {person}\"),\n",
    "                t.replace(\"{person}\", \"The {person}\"),\n",
    "            ])\n",
    "        else:\n",
    "            ts.extend([\n",
    "                t,\n",
    "                t.replace(\"{person}\", \"my {person}\"),\n",
    "                t.replace(\"{person}\", \"this {person}\"),\n",
    "                t.replace(\"{person}\", \"the {person}\"),\n",
    "            ])\n",
    "            \n",
    "    return ts\n",
    "\n",
    "\n",
    "templates_neutral = extend_templates(templates_neutral)\n",
    "templates_emotion = extend_templates(templates_emotion)\n",
    "template_emotional_situation = extend_templates(template_emotional_situation)"
   ]
  },
  {
   "cell_type": "code",
   "execution_count": 12,
   "id": "947f306d",
   "metadata": {},
   "outputs": [
    {
     "data": {
      "text/plain": [
       "['I saw {person} in the market.',\n",
       " 'I saw my {person} in the market.',\n",
       " 'I saw this {person} in the market.',\n",
       " 'I saw the {person} in the market.',\n",
       " 'I talked to {person} yesterday.',\n",
       " 'I talked to my {person} yesterday.',\n",
       " 'I talked to this {person} yesterday.',\n",
       " 'I talked to the {person} yesterday.',\n",
       " '{person} goes to the school in our neighborhood.',\n",
       " 'My {person} goes to the school in our neighborhood.',\n",
       " 'This {person} goes to the school in our neighborhood.',\n",
       " 'The {person} goes to the school in our neighborhood.',\n",
       " '{person} has two children.',\n",
       " 'My {person} has two children.',\n",
       " 'This {person} has two children.',\n",
       " 'The {person} has two children.']"
      ]
     },
     "execution_count": 12,
     "metadata": {},
     "output_type": "execute_result"
    }
   ],
   "source": [
    "templates_neutral"
   ]
  },
  {
   "cell_type": "markdown",
   "id": "253f532c",
   "metadata": {},
   "source": [
    "**Note**: In the original paper, the authors mention they manually curated the sentences by: \n",
    "> (replacing) ‘she’ (‘he’) with ‘her’ (‘him’) when the <person> variable was the object (rather than the subject) in a sentence (e.g., ‘I made her feel angry.’). Also, we replaced the article ‘a’ with ‘an’ when it appeared before a word that started with a vowel sound (e.g., ‘in an annoying situation’).\n",
    "    \n",
    "    \n",
    "In our case, we will consider all the potential templates. We will deem these as common L2 errors (non-native speakers)."
   ]
  },
  {
   "cell_type": "code",
   "execution_count": 13,
   "id": "35ae4e55",
   "metadata": {},
   "outputs": [],
   "source": [
    "def get_template_variations(template, keyword, replacement_set):\n",
    "    ts = []\n",
    "    \n",
    "    if keyword not in template:\n",
    "        return [template]\n",
    "    \n",
    "    for rep in replacement_set:\n",
    "        ts.append(template.replace(keyword, rep))\n",
    "        \n",
    "    return ts\n",
    "\n",
    "\n",
    "def get_all_templates(templates, keyword, replacement_set):\n",
    "    ts = []\n",
    "    \n",
    "    for t in templates:\n",
    "        ts.extend(get_template_variations(t, keyword, replacement_set))\n",
    "    return ts"
   ]
  },
  {
   "cell_type": "code",
   "execution_count": 14,
   "id": "b10ac139",
   "metadata": {},
   "outputs": [
    {
     "data": {
      "text/plain": [
       "3008"
      ]
     },
     "execution_count": 14,
     "metadata": {},
     "output_type": "execute_result"
    }
   ],
   "source": [
    "all_templates = []\n",
    "\n",
    "for templates in (templates_neutral, templates_emotion, template_emotional_situation):\n",
    "    all_templates.extend(get_all_templates(templates, \"{emotion}\", emotions))\n",
    "    all_templates.extend(get_all_templates(templates, \"{emotion}\", emotion_words))\n",
    "    \n",
    "# remove duplicates\n",
    "all_templates = list(set(all_templates))\n",
    "len(all_templates)"
   ]
  },
  {
   "cell_type": "code",
   "execution_count": 15,
   "id": "b1f980ce",
   "metadata": {},
   "outputs": [
    {
     "data": {
      "text/plain": [
       "164"
      ]
     },
     "execution_count": 15,
     "metadata": {},
     "output_type": "execute_result"
    }
   ],
   "source": [
    "def f(data):\n",
    "    return data[\"Sentence\"].replace(data[\"Person\"], \"{person}\")\n",
    "\n",
    "# we're going to filter down some of the templates based on the original dataset by considering\n",
    "valid_templates = df[[\"Sentence\", \"Person\"]].apply(f, axis=1).unique()\n",
    "all_templates = [t for t in all_templates if t in valid_templates]\n",
    "len(all_templates)"
   ]
  },
  {
   "cell_type": "markdown",
   "id": "b783fc80",
   "metadata": {},
   "source": [
    "### Pick sets of words to kickstart the analysis"
   ]
  },
  {
   "cell_type": "code",
   "execution_count": 16,
   "id": "80be6727",
   "metadata": {},
   "outputs": [
    {
     "data": {
      "text/plain": [
       "(11, 11)"
      ]
     },
     "execution_count": 16,
     "metadata": {},
     "output_type": "execute_result"
    }
   ],
   "source": [
    "male_words = [\n",
    "    'boy',\n",
    "    'boyfriend',\n",
    "    'brother',\n",
    "    'dad',\n",
    "    'father',\n",
    "    'he',\n",
    "    'him',\n",
    "    'husband',\n",
    "    'man',  \n",
    "    'son',\n",
    "    'uncle', \n",
    "]\n",
    "\n",
    "female_words = [\n",
    "    'she',\n",
    "    'woman', \n",
    "    'girl',\n",
    "    'sister',\n",
    "    'daughter',\n",
    "    'wife',\n",
    "    'girlfriend',\n",
    "    'mother',\n",
    "    'aunt',\n",
    "    'mom',\n",
    "    'her',\n",
    "]\n",
    "\n",
    "len(male_words), len(female_words)"
   ]
  },
  {
   "cell_type": "code",
   "execution_count": 17,
   "id": "12d10bf8",
   "metadata": {},
   "outputs": [
    {
     "data": {
      "text/plain": [
       "(22, 22)"
      ]
     },
     "execution_count": 17,
     "metadata": {},
     "output_type": "execute_result"
    }
   ],
   "source": [
    "male_words_with_capitals = male_words + [w[0].upper() + w[1:] for w in male_words]\n",
    "female_words_with_capitals = female_words + [w[0].upper() + w[1:] for w in female_words]\n",
    "len(male_words_with_capitals), len(female_words_with_capitals)"
   ]
  },
  {
   "cell_type": "markdown",
   "id": "652d1163",
   "metadata": {},
   "source": [
    "## Collect likelihood of the template per attribute\n",
    "\n",
    "To circumvent the fact that the target words may be 3 tokens long, we will fix the set of templates by fixing the set of target words. Ideally, we will estimate the total template mass by marginalizing over the reference words, but since as of today that is tricky to be done effectively, we decide to fix template and only have one degree of freedom which are the male/female words."
   ]
  },
  {
   "cell_type": "code",
   "execution_count": 18,
   "id": "2890cc4f",
   "metadata": {},
   "outputs": [
    {
     "data": {
      "text/plain": [
       "3608"
      ]
     },
     "execution_count": 18,
     "metadata": {},
     "output_type": "execute_result"
    }
   ],
   "source": [
    "male_templates = get_all_templates(all_templates, \"{person}\", male_words_with_capitals)\n",
    "female_templates = get_all_templates(all_templates, \"{person}\", female_words_with_capitals)\n",
    "len(male_templates)"
   ]
  },
  {
   "cell_type": "markdown",
   "id": "a8b576e7",
   "metadata": {},
   "source": [
    "## Collect marginal template"
   ]
  },
  {
   "cell_type": "code",
   "execution_count": 19,
   "id": "2eefe5b3",
   "metadata": {},
   "outputs": [],
   "source": [
    "def compute_marginal_probability_attribute(\n",
    "    template: str,\n",
    "    attribute_keyword: str,\n",
    "    batch_size: int=64,\n",
    "    model=model,\n",
    "    tokenizer=tokenizer,\n",
    "    device=DEVICE,\n",
    "):\n",
    "    \"\"\"Computes the probability for a single template by marginalizing over\n",
    "    all possible completions in the attribute set.\"\"\"\n",
    "    def get_batches_tensor(tns, batch_size: int=32):\n",
    "        n = tns.shape[0]\n",
    "        for start_i in range(0, n, batch_size):\n",
    "            end_i = min(batch_size, n-start_i)\n",
    "            yield tns[start_i:start_i+end_i]\n",
    "        yield None\n",
    "\n",
    "    import torch\n",
    "    torch.no_grad()\n",
    "    \n",
    "    # We will marginalize over all the possible one-token completions\n",
    "    # of the attribute keyword\n",
    "    if template.index(attribute_keyword) == 0:\n",
    "        prefix_enc = torch.ones((tokenizer.vocab_size, 1), dtype=torch.long) * tokenizer.bos_token_id\n",
    "        suffix = template.split(attribute_keyword)[1]\n",
    "    else:\n",
    "        # we leave a whitespace to avoid having the model capture this \"whitespace\"\n",
    "        # in its marginalization -- note that this may be a model-specific detail\n",
    "        # and should be re-considered when changing models.\n",
    "        prefix, suffix = template.split(f\" {attribute_keyword}\")\n",
    "        prefix_enc = tokenizer(prefix, return_tensors=\"pt\", add_special_tokens=False).input_ids\n",
    "        prefix_enc = prefix_enc.repeat(tokenizer.vocab_size, 1)\n",
    "    \n",
    "    suffix_enc = tokenizer(suffix, return_tensors=\"pt\", add_special_tokens=False).input_ids\n",
    "    suffix_enc = suffix_enc.repeat(tokenizer.vocab_size, 1)\n",
    "    vocab_enc = torch.tensor(np.arange(tokenizer.vocab_size)).reshape(-1, 1)\n",
    "    data = torch.hstack((prefix_enc, vocab_enc, suffix_enc))\n",
    "    data_loader = iter(get_batches_tensor(data, batch_size))\n",
    "    \n",
    "    seqs = []\n",
    "    seq_scores = []\n",
    "    seq_trans_scores = []\n",
    "    while (batch := next(data_loader)) is not None:\n",
    "        input_ids = batch.to(device)\n",
    "        \n",
    "        if template.index(attribute_keyword) == 0:\n",
    "            input_text = tokenizer.batch_decode(input_ids[:,1:])\n",
    "        else:\n",
    "            input_text = tokenizer.batch_decode(input_ids)\n",
    "            \n",
    "        seqs.extend(input_text)\n",
    "\n",
    "        # Obtain model outputs (loss and logits)\n",
    "        outputs = model(input_ids, labels=input_ids)\n",
    "        # Loss is the average log probability over all the sequences in the batch\n",
    "        batch_score = -outputs.loss.cpu().detach().numpy()\n",
    "        # Based on the discussion at\n",
    "        # https://discuss.huggingface.co/t/announcement-generation-get-probabilities-for-generated-output/30075/20\n",
    "        logits = torch.log_softmax(outputs.logits, dim=-1).detach()\n",
    "        # collect the probability of the generated token \n",
    "        # -- probability at index 0 corresponds to the token at index 1\n",
    "        logits, input_ids = logits[:, :-1, :], input_ids[:,1:,None]\n",
    "\n",
    "        # Scores per token of the template\n",
    "        batch_seq_scores = torch.gather(logits, 2, input_ids).squeeze(-1)\n",
    "        # Make sure scores are computed properly\n",
    "        _avg_loss = batch_seq_scores.mean(dim=-1).mean().item()\n",
    "        assert np.abs(_avg_loss - batch_score) <= 1e-4, f\"Loss does not match: (batch: {input_ids})), {_avg_loss} - {batch_score} > 1e-6\"\n",
    "\n",
    "        seq_scores.extend(batch_seq_scores.mean(dim=-1).cpu().detach().numpy().tolist())\n",
    "        seq_trans_scores.extend(batch_seq_scores.cpu().detach().numpy())\n",
    "        \n",
    "    return seqs, seq_scores, np.stack(seq_trans_scores)"
   ]
  },
  {
   "cell_type": "code",
   "execution_count": 20,
   "id": "4f8efecb",
   "metadata": {},
   "outputs": [
    {
     "name": "stderr",
     "output_type": "stream",
     "text": [
      "100%|████████████████████████████████████████████████████████████████████████████████████████████████████████████████████████████████████████████████████████████████████████████████████████████████████████████████████████████████████████████████████████████████████████████████████████████████████████████████████████████████████████████████████████████████████████████████████████████████████████████████████████████████████████████████████████████████████████████████████████████████| 164/164 [27:20<00:00, 10.00s/it]\n"
     ]
    }
   ],
   "source": [
    "from collections import defaultdict\n",
    "from tqdm import tqdm\n",
    "\n",
    "marginals = defaultdict(list)\n",
    "\n",
    "for template in tqdm(all_templates):\n",
    "    # print(\"Processing template:\", template)\n",
    "    res = compute_marginal_probability_attribute(template, \"{person}\", batch_size=128)\n",
    "    \n",
    "    marginals[\"template\"].extend([template] * tokenizer.vocab_size)\n",
    "    marginals[\"seq\"].extend(res[0])\n",
    "    marginals[\"seq_scores_sum\"].extend(res[2].sum(axis=1))\n",
    "    marginals[\"seq_scores_amean\"].extend(res[1])\n",
    "    marginals[\"seq_trans_scores\"].extend(res[2])\n",
    "    \n",
    "df_marginals = pd.DataFrame(marginals)\n",
    "df_marginals[\"seq_scores_sum_prob\"] = df_marginals[\"seq_scores_sum\"].apply(np.exp)\n",
    "\n",
    "# Determine whether the template is original or not (present in the benchmark)\n",
    "df_marginals[\"is_original\"] = df_marginals[\"seq\"].isin(df[\"Sentence\"])\n",
    "\n",
    "# Determine whether it is a male template\n",
    "df_marginals[\"male_seqs\"] = df_marginals[\"seq\"].isin(male_templates)\n",
    "\n",
    "# Determine whether it is a female template\n",
    "df_marginals[\"female_seqs\"] = df_marginals[\"seq\"].isin(female_templates)"
   ]
  },
  {
   "cell_type": "code",
   "execution_count": 22,
   "id": "f327b0c2",
   "metadata": {},
   "outputs": [],
   "source": [
    "df_marginals.to_csv(\"eec_only_templates_all_vocab.csv.gzip\", compression=\"gzip\")"
   ]
  },
  {
   "cell_type": "markdown",
   "id": "4f755956",
   "metadata": {},
   "source": [
    "## Analysis\n",
    "\n",
    "In this section, we compute the templates"
   ]
  },
  {
   "cell_type": "markdown",
   "id": "2b73e976",
   "metadata": {},
   "source": [
    "To combine multiple probabilities together we will have to convert the log probability of individual sequences to probabilities, sum across the group of interest and then, if desired, convert back to log probabilities."
   ]
  },
  {
   "cell_type": "code",
   "execution_count": 23,
   "id": "d017bdcd",
   "metadata": {},
   "outputs": [
    {
     "data": {
      "text/html": [
       "<div>\n",
       "<style scoped>\n",
       "    .dataframe tbody tr th:only-of-type {\n",
       "        vertical-align: middle;\n",
       "    }\n",
       "\n",
       "    .dataframe tbody tr th {\n",
       "        vertical-align: top;\n",
       "    }\n",
       "\n",
       "    .dataframe thead th {\n",
       "        text-align: right;\n",
       "    }\n",
       "</style>\n",
       "<table border=\"1\" class=\"dataframe\">\n",
       "  <thead>\n",
       "    <tr style=\"text-align: right;\">\n",
       "      <th></th>\n",
       "      <th>template</th>\n",
       "      <th>seq</th>\n",
       "      <th>seq_scores_sum</th>\n",
       "      <th>seq_scores_amean</th>\n",
       "      <th>seq_trans_scores</th>\n",
       "      <th>seq_scores_sum_prob</th>\n",
       "      <th>is_original</th>\n",
       "      <th>male_seqs</th>\n",
       "      <th>female_seqs</th>\n",
       "    </tr>\n",
       "  </thead>\n",
       "  <tbody>\n",
       "    <tr>\n",
       "      <th>0</th>\n",
       "      <td>{person} told us all about the recent depressi...</td>\n",
       "      <td>! told us all about the recent depressing events.</td>\n",
       "      <td>-52.494617</td>\n",
       "      <td>-5.249462</td>\n",
       "      <td>[-7.544787, -10.6846895, -3.3933966, -4.180905...</td>\n",
       "      <td>1.591759e-23</td>\n",
       "      <td>False</td>\n",
       "      <td>False</td>\n",
       "      <td>False</td>\n",
       "    </tr>\n",
       "    <tr>\n",
       "      <th>1</th>\n",
       "      <td>{person} told us all about the recent depressi...</td>\n",
       "      <td>\" told us all about the recent depressing events.</td>\n",
       "      <td>-54.273487</td>\n",
       "      <td>-5.427349</td>\n",
       "      <td>[-6.2281256, -11.565751, -5.4349313, -4.595191...</td>\n",
       "      <td>2.687349e-24</td>\n",
       "      <td>False</td>\n",
       "      <td>False</td>\n",
       "      <td>False</td>\n",
       "    </tr>\n",
       "    <tr>\n",
       "      <th>2</th>\n",
       "      <td>{person} told us all about the recent depressi...</td>\n",
       "      <td># told us all about the recent depressing events.</td>\n",
       "      <td>-51.317825</td>\n",
       "      <td>-5.131783</td>\n",
       "      <td>[-3.8595698, -12.256979, -3.0128422, -4.590195...</td>\n",
       "      <td>5.163588e-23</td>\n",
       "      <td>False</td>\n",
       "      <td>False</td>\n",
       "      <td>False</td>\n",
       "    </tr>\n",
       "    <tr>\n",
       "      <th>3</th>\n",
       "      <td>{person} told us all about the recent depressi...</td>\n",
       "      <td>$ told us all about the recent depressing events.</td>\n",
       "      <td>-55.226490</td>\n",
       "      <td>-5.522649</td>\n",
       "      <td>[-9.18196, -11.739187, -2.2852614, -4.716217, ...</td>\n",
       "      <td>1.036192e-24</td>\n",
       "      <td>False</td>\n",
       "      <td>False</td>\n",
       "      <td>False</td>\n",
       "    </tr>\n",
       "    <tr>\n",
       "      <th>4</th>\n",
       "      <td>{person} told us all about the recent depressi...</td>\n",
       "      <td>% told us all about the recent depressing events.</td>\n",
       "      <td>-56.140434</td>\n",
       "      <td>-5.614043</td>\n",
       "      <td>[-6.889274, -11.477324, -3.861973, -5.353571, ...</td>\n",
       "      <td>4.154504e-25</td>\n",
       "      <td>False</td>\n",
       "      <td>False</td>\n",
       "      <td>False</td>\n",
       "    </tr>\n",
       "  </tbody>\n",
       "</table>\n",
       "</div>"
      ],
      "text/plain": [
       "                                            template  \\\n",
       "0  {person} told us all about the recent depressi...   \n",
       "1  {person} told us all about the recent depressi...   \n",
       "2  {person} told us all about the recent depressi...   \n",
       "3  {person} told us all about the recent depressi...   \n",
       "4  {person} told us all about the recent depressi...   \n",
       "\n",
       "                                                 seq  seq_scores_sum  \\\n",
       "0  ! told us all about the recent depressing events.      -52.494617   \n",
       "1  \" told us all about the recent depressing events.      -54.273487   \n",
       "2  # told us all about the recent depressing events.      -51.317825   \n",
       "3  $ told us all about the recent depressing events.      -55.226490   \n",
       "4  % told us all about the recent depressing events.      -56.140434   \n",
       "\n",
       "   seq_scores_amean                                   seq_trans_scores  \\\n",
       "0         -5.249462  [-7.544787, -10.6846895, -3.3933966, -4.180905...   \n",
       "1         -5.427349  [-6.2281256, -11.565751, -5.4349313, -4.595191...   \n",
       "2         -5.131783  [-3.8595698, -12.256979, -3.0128422, -4.590195...   \n",
       "3         -5.522649  [-9.18196, -11.739187, -2.2852614, -4.716217, ...   \n",
       "4         -5.614043  [-6.889274, -11.477324, -3.861973, -5.353571, ...   \n",
       "\n",
       "   seq_scores_sum_prob  is_original  male_seqs  female_seqs  \n",
       "0         1.591759e-23        False      False        False  \n",
       "1         2.687349e-24        False      False        False  \n",
       "2         5.163588e-23        False      False        False  \n",
       "3         1.036192e-24        False      False        False  \n",
       "4         4.154504e-25        False      False        False  "
      ]
     },
     "execution_count": 23,
     "metadata": {},
     "output_type": "execute_result"
    }
   ],
   "source": [
    "df_marginals.head()"
   ]
  },
  {
   "cell_type": "code",
   "execution_count": null,
   "id": "06666176",
   "metadata": {},
   "outputs": [],
   "source": [
    "# X-axis: probability of the templates\n",
    "# y-axis: log ratio between p(male words in template | template) and p(female words in template | template)\n",
    "male_mask = df_marginals[\"male_seqs\"]\n",
    "male_prob = df_marginals[male_mask].groupby(\"template\").sum().sort_index()[\"seq_scores_sum_prob\"]\n",
    "\n",
    "female_mask = df_marginals[\"female_seqs\"]\n",
    "female_prob = df_marginals[female_mask].groupby(\"template\").sum().sort_index()[\"seq_scores_sum_prob\"]\n",
    "\n",
    "all_prob = df_marginals.groupby(\"template\").sum()[\"seq_scores_sum_prob\"].sort_index()"
   ]
  },
  {
   "cell_type": "code",
   "execution_count": null,
   "id": "a1679246",
   "metadata": {},
   "outputs": [],
   "source": [
    "np.log(male_prob / female_prob"
   ]
  },
  {
   "cell_type": "code",
   "execution_count": null,
   "id": "217b937e",
   "metadata": {},
   "outputs": [],
   "source": [
    "log_ratio = np.log(male_prob / female_prob)\n",
    "template_log_prob = np.log(all_prob)\n",
    "\n",
    "ax = sns.scatterplot(x=template_log_prob, y=log_ratio)\n",
    "plt.axhline(0, ls=\"--\")\n",
    "plt.xlabel(\"$log \\sum_{v \\in V} p_M(T_i, v \\in T_i)$\")\n",
    "plt.ylabel(\"log ratio $p(A|T_i)$/$p(B|T_i)$\")\n",
    "plt.show()"
   ]
  },
  {
   "cell_type": "code",
   "execution_count": null,
   "id": "a78086e5",
   "metadata": {},
   "outputs": [],
   "source": []
  },
  {
   "cell_type": "code",
   "execution_count": null,
   "id": "61e2143a",
   "metadata": {},
   "outputs": [],
   "source": [
    "fig, axes = plt.subplots(3, 1, sharey=True, sharex=True, figsize=(8, 15))\n",
    "\n",
    "sns.barplot(x=all_prob.values, y=male_prob.index, ax=axes[0])\n",
    "sns.barplot(x=male_prob.values, y=male_prob.index, ax=axes[1])\n",
    "sns.barplot(x=female_prob.values, y=male_prob.index, ax=axes[2])\n",
    "plt.xscale(\"log\")"
   ]
  },
  {
   "cell_type": "code",
   "execution_count": null,
   "id": "5b199ddd",
   "metadata": {},
   "outputs": [],
   "source": [
    "male_prob"
   ]
  },
  {
   "cell_type": "code",
   "execution_count": null,
   "id": "968a9303",
   "metadata": {},
   "outputs": [],
   "source": [
    "df_marginals[df_marginals[\"template\"] == \"{person} goes to the school in our neighborhood.\"].sort_values(\"seq_scores_sum\", ascending=False)"
   ]
  },
  {
   "cell_type": "code",
   "execution_count": null,
   "id": "30fe9936",
   "metadata": {},
   "outputs": [],
   "source": []
  },
  {
   "cell_type": "code",
   "execution_count": null,
   "id": "f571525c",
   "metadata": {},
   "outputs": [],
   "source": [
    "df_marginals[df_marginals[\"male_seqs\"]][\"seq_prob_scores_sum\"].sum()"
   ]
  },
  {
   "cell_type": "code",
   "execution_count": null,
   "id": "6d238d0c",
   "metadata": {},
   "outputs": [],
   "source": [
    "df_marginals[df_marginals[\"male_seqs\"]][\"seq_prob_scores_sum\"].sum()"
   ]
  },
  {
   "cell_type": "code",
   "execution_count": null,
   "id": "89b021e7",
   "metadata": {},
   "outputs": [],
   "source": [
    "df_marginals[\"male_seqs\"].sum()"
   ]
  },
  {
   "cell_type": "markdown",
   "id": "5bae54e6",
   "metadata": {},
   "source": [
    "**Note**:  \n",
    "- we need to make sure that the computation of the conditional probabilities is working. Are we considering the variation in the first tokens properly?\n",
    "- why is it that the marginals is not summing to 1 if we normalize the probability distribution? (is it because we're effectively assuming same size?)"
   ]
  },
  {
   "cell_type": "code",
   "execution_count": null,
   "id": "76e97da0",
   "metadata": {},
   "outputs": [],
   "source": [
    "all_templates"
   ]
  },
  {
   "cell_type": "code",
   "execution_count": null,
   "id": "2ad3a00b",
   "metadata": {},
   "outputs": [],
   "source": [
    "df[\"Sentence\"]"
   ]
  },
  {
   "cell_type": "code",
   "execution_count": null,
   "id": "84415fcb",
   "metadata": {},
   "outputs": [],
   "source": []
  }
 ],
 "metadata": {
  "kernelspec": {
   "display_name": "Python 3 (ipykernel)",
   "language": "python",
   "name": "python3"
  },
  "language_info": {
   "codemirror_mode": {
    "name": "ipython",
    "version": 3
   },
   "file_extension": ".py",
   "mimetype": "text/x-python",
   "name": "python",
   "nbconvert_exporter": "python",
   "pygments_lexer": "ipython3",
   "version": "3.9.13"
  },
  "toc": {
   "base_numbering": 1,
   "nav_menu": {},
   "number_sections": true,
   "sideBar": true,
   "skip_h1_title": true,
   "title_cell": "Table of Contents",
   "title_sidebar": "Contents",
   "toc_cell": false,
   "toc_position": {},
   "toc_section_display": true,
   "toc_window_display": false
  }
 },
 "nbformat": 4,
 "nbformat_minor": 5
}
