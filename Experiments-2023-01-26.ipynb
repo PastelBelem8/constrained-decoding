{
 "cells": [
  {
   "cell_type": "markdown",
   "id": "de8e0164",
   "metadata": {},
   "source": [
    "# Table of contents\n",
    "\n",
    "1. Empirical Frequencies in the PILE dataset\n",
    "2. GPT-Neo-125M estimated probabilities\n",
    "\n",
    "We will start by analizing some marginals and see how the model relates to that.\n",
    "\n",
    "## Elastic Search"
   ]
  },
  {
   "cell_type": "code",
   "execution_count": 124,
   "id": "25417513",
   "metadata": {},
   "outputs": [],
   "source": [
    "from elasticsearch import Elasticsearch\n",
    "from functools import partial\n",
    "\n",
    "# Create an elastic search engine\n",
    "es = Elasticsearch(\n",
    "     cloud_id=\"lm-datasets:dXMtY2VudHJhbDEuZ2NwLmNsb3VkLmVzLmlvJDk1N2U5ODIwZDUxNTQ0YWViMjk0MmQwNzI1NjE0OTQ2JDhkN2M0OWMyZDEzMTRiNmM4NDNhNGEwN2U4NDE5NjRl\",\n",
    "     api_key=\"T2w5Vl9ZTUIzVzE5dTlBblUtRlo6MHNBYWxhbHVTeGFodUpUOWIybkNNZw==\",\n",
    "     retry_on_timeout=True,\n",
    "     http_compress=True,\n",
    ")\n",
    "\n",
    "# Syntactic sugar to avoid repeating index and keyword arguments\n",
    "search = partial(\n",
    "    es.search,\n",
    "    \n",
    "    index=\"re_pile\",\n",
    "    track_total_hits=True,\n",
    ")\n",
    "\n",
    "\n",
    "def scroll(query, size, scroll):\n",
    "    data = search(query=query, size=size, scroll=scroll)\n",
    "    print(\"Total documents found\", data[\"hits\"][\"total\"])\n",
    "\n",
    "    sid = data[\"_scroll_id\"]\n",
    "    scroll_size = len(data[\"hits\"][\"hits\"])\n",
    "\n",
    "    \n",
    "    while scroll_size > 0:\n",
    "        print(\"Processing\", scroll_size, \"documents\")\n",
    "        \n",
    "        yield data[\"hits\"][\"hits\"]\n",
    "        \n",
    "        data = es.scroll(scroll_id=sid, scroll=\"2m\")\n",
    "        sid = data[\"_scroll_id\"]\n",
    "\n",
    "        scroll_size = len(data[\"hits\"][\"hits\"])\n",
    "\n",
    "    es.clear_scroll(scroll_id=sid)\n",
    "    \n",
    "\n",
    "def to_json(data, filepath, mode=\"a\"):\n",
    "    import json\n",
    "    data = data if isinstance(data, (list, tuple)) else [data]\n",
    "    data = [json.dumps(l, sort_keys=True) for l in data]\n",
    "    \n",
    "    with open(filepath, mode=mode) as f:\n",
    "        f.writelines(data)\n",
    "        "
   ]
  },
  {
   "cell_type": "code",
   "execution_count": null,
   "id": "52ddf574",
   "metadata": {},
   "outputs": [],
   "source": []
  },
  {
   "cell_type": "markdown",
   "id": "a129e4a8",
   "metadata": {},
   "source": [
    "## Verify queries are encoded as single tokens\n",
    "\n",
    "This verification is necessary because the current method does not consider contiguous sequences of tokens."
   ]
  },
  {
   "cell_type": "code",
   "execution_count": 149,
   "id": "d31e29e9",
   "metadata": {},
   "outputs": [],
   "source": [
    "## Auxiliar function\n",
    "def check_marginal_queries(terms_A, tokenizer, add_special_tokens=False):\n",
    "    terms_ids = tokenizer(terms_A, add_special_tokens=add_special_tokens).input_ids\n",
    "    assert len(terms_ids) == len(terms_A.split()), f\"Terms: '{terms_A}' map to more than one token_id each: {terms_ids}\"\n",
    "    \n",
    "\n",
    "def check_queries(terms_A, terms_B, tokenizer, add_special_tokens=False):\n",
    "    for terms in (terms_A, terms_B):\n",
    "        terms_ids = tokenizer(terms, add_special_tokens=add_special_tokens).input_ids\n",
    "        assert len(terms_ids) == len(terms.split()), f\"Terms: '{terms}' map to more than one token_id each: {terms_ids}\"\n",
    "    "
   ]
  },
  {
   "cell_type": "code",
   "execution_count": 237,
   "id": "89082448",
   "metadata": {},
   "outputs": [
    {
     "name": "stderr",
     "output_type": "stream",
     "text": [
      "Using pad_token, but it is not set yet.\n"
     ]
    },
    {
     "name": "stdout",
     "output_type": "stream",
     "text": [
      "Importing classes for model EleutherAI/gpt-neo-125M\n",
      " -> <class 'transformers.models.gpt2.tokenization_gpt2.GPT2Tokenizer'>\n",
      " -> <class 'transformers.models.gpt_neo.modeling_gpt_neo.GPTNeoForCausalLM'>\n",
      "Vocabulary size: 50257\n"
     ]
    }
   ],
   "source": [
    "from importance_sampler import ImportanceSampler\n",
    "\n",
    "DEVICE = \"cuda\"\n",
    "MAX_NUM_TOKENS = 15\n",
    "MODEL_NAME = \"EleutherAI/gpt-neo-125M\"\n",
    "NUM_SEQUENCES = 250\n",
    "SEED = 20230126\n",
    "\n",
    "sampler = ImportanceSampler(\n",
    "    model_name=MODEL_NAME,\n",
    "    device=DEVICE,\n",
    ")"
   ]
  },
  {
   "cell_type": "markdown",
   "id": "ae4ef497",
   "metadata": {},
   "source": [
    "## Empirical frequencies in PILE dataset"
   ]
  },
  {
   "cell_type": "code",
   "execution_count": 238,
   "id": "215f7662",
   "metadata": {},
   "outputs": [
    {
     "data": {
      "text/plain": [
       "[('-', 8547638016),\n",
       " ('*', 2911636063),\n",
       " ('=', 2693603408),\n",
       " ('/', 1842700323),\n",
       " ('2', 696181955),\n",
       " ('+', 689330417),\n",
       " ('he', 670513865),\n",
       " ('1', 654764660),\n",
       " ('?', 653781947),\n",
       " ('his', 490624599)]"
      ]
     },
     "execution_count": 238,
     "metadata": {},
     "output_type": "execute_result"
    }
   ],
   "source": [
    "import pickle\n",
    "\n",
    "\n",
    "with open('./term_frequency.pkl', 'rb') as f:\n",
    "    TERM_FREQUENCY = pickle.load(f)\n",
    "    \n",
    "PROXY_ALL_TERMS = sum(TERM_FREQUENCY.values())\n",
    "PROXY_ALL_TERMS\n",
    "\n",
    "def compute_proxy_term_frequency(terms_A):\n",
    "    total = 0\n",
    "    for a in terms_A.split():\n",
    "        total += TERM_FREQUENCY[a]\n",
    "        \n",
    "    return total / PROXY_ALL_TERMS\n",
    "\n",
    "SORTED_TERM_FREQUENCY = sorted(TERM_FREQUENCY.items(), key=lambda x: x[1], reverse=True)\n",
    "SORTED_TERM_FREQUENCY[:10]"
   ]
  },
  {
   "cell_type": "code",
   "execution_count": 239,
   "id": "ca91c2c6",
   "metadata": {},
   "outputs": [
    {
     "data": {
      "text/plain": [
       "0.06590129785398365"
      ]
     },
     "execution_count": 239,
     "metadata": {},
     "output_type": "execute_result"
    }
   ],
   "source": [
    "max(TERM_FREQUENCY.values()) / PROXY_ALL_TERMS"
   ]
  },
  {
   "cell_type": "markdown",
   "id": "bd7e1e65",
   "metadata": {},
   "source": [
    "## Computing marginals"
   ]
  },
  {
   "cell_type": "code",
   "execution_count": 240,
   "id": "5597a8ae",
   "metadata": {},
   "outputs": [],
   "source": [
    "import matplotlib.pyplot as plt\n",
    "import seaborn as sns\n",
    "\n",
    "import numpy as np"
   ]
  },
  {
   "cell_type": "code",
   "execution_count": 241,
   "id": "cc1ff5da",
   "metadata": {},
   "outputs": [
    {
     "data": {
      "text/plain": [
       "0.022711943124199063"
      ]
     },
     "execution_count": 241,
     "metadata": {},
     "output_type": "execute_result"
    }
   ],
   "source": [
    "### Probability of uttering a number\n",
    "DIGITS = \" 0 1 2 3 4 5 6 7 8 9\"\n",
    "data_digits_prob = compute_proxy_term_frequency(DIGITS)\n",
    "data_digits_prob"
   ]
  },
  {
   "cell_type": "code",
   "execution_count": null,
   "id": "05447490",
   "metadata": {},
   "outputs": [],
   "source": []
  },
  {
   "cell_type": "code",
   "execution_count": 236,
   "id": "8057e655",
   "metadata": {},
   "outputs": [
    {
     "name": "stderr",
     "output_type": "stream",
     "text": [
      "100%|██████████████████████████████████████████████████████████████████████████████████████████████████████████████████████████████████████████████████████████████████████████████████████████████████████████████| 15/15 [00:00<00:00, 727.79it/s]\n"
     ]
    }
   ],
   "source": [
    "hit_probs, miss_probs = sampler.estimate_hit_probability(\n",
    "    input_str = \"\", avoid_terms=DIGITS, num_sequences=NUM_SEQUENCES, max_num_tokens=MAX_NUM_TOKENS, seed=SEED\n",
    ")"
   ]
  },
  {
   "cell_type": "code",
   "execution_count": 252,
   "id": "c0eb8544",
   "metadata": {},
   "outputs": [
    {
     "data": {
      "image/png": "[encoded data removed]",
      "text/plain": [
       "<Figure size 1000x400 with 2 Axes>"
      ]
     },
     "metadata": {},
     "output_type": "display_data"
    }
   ],
   "source": [
    "fig, axes = plt.subplots(1, 2, figsize=(10, 4), tight_layout=True)\n",
    "fig.suptitle(f\"Hitting time probability of '{digits}' occurring at timestep k\")\n",
    "axes[0].set_title(\"pmf\")\n",
    "sns.barplot(x=np.arange(MAX_NUM_TOKENS)+1, y=hit_probs, ax=axes[0])\n",
    "axes[0].set_xlabel(\"Number of tokens, K\")\n",
    "axes[0].set_ylabel(f\"P(N(k) = 1 | and {digits} do not occur before k)\")\n",
    "\n",
    "sns.barplot(x=np.arange(MAX_NUM_TOKENS)+1, y=np.array(hit_probs).cumsum(), ax=axes[1])\n",
    "axes[1].set_title(\"cdf\")\n",
    "axes[1].set_xlabel(\"Number of tokens, K\")\n",
    "axes[1].set_ylabel(f\"P(N(k) = 1)\")\n",
    "axes[1].axhline(data_digits_prob, color=\"gray\", ls=\"--\")\n",
    "\n",
    "sns.despine()\n",
    "plt.tight_layout()\n",
    "plt.show()"
   ]
  },
  {
   "cell_type": "code",
   "execution_count": null,
   "id": "c2af7e9f",
   "metadata": {},
   "outputs": [],
   "source": [
    "query = {\n",
    "        \"bool\": {\n",
    "            \"must\": [{\"match\": {\"text\": \"Paris\"}}],\n",
    "            \"must_not\": [{\"match\": {\"text\": \"capital Capital\"}}],\n",
    "            \"filter\": [{\"text\"}]\n",
    "        }\n",
    "}\n",
    "\n",
    "data = search(query=query)\n",
    "data[\"hits\"][\"total\"] # 2454489 - 2069382: 385107 (no filter - filter)"
   ]
  }
 ],
 "metadata": {
  "kernelspec": {
   "display_name": "Python 3 (ipykernel)",
   "language": "python",
   "name": "python3"
  },
  "language_info": {
   "codemirror_mode": {
    "name": "ipython",
    "version": 3
   },
   "file_extension": ".py",
   "mimetype": "text/x-python",
   "name": "python",
   "nbconvert_exporter": "python",
   "pygments_lexer": "ipython3",
   "version": "3.9.13"
  },
  "toc": {
   "base_numbering": 1,
   "nav_menu": {},
   "number_sections": true,
   "sideBar": true,
   "skip_h1_title": true,
   "title_cell": "Table of Contents",
   "title_sidebar": "Contents",
   "toc_cell": false,
   "toc_position": {},
   "toc_section_display": true,
   "toc_window_display": false
  }
 },
 "nbformat": 4,
 "nbformat_minor": 5
}
