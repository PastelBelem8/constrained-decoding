{
 "cells": [
  {
   "cell_type": "code",
   "execution_count": 1,
   "id": "8da3885c",
   "metadata": {},
   "outputs": [],
   "source": [
    "from elasticsearch import Elasticsearch\n",
    "from functools import partial\n",
    "\n",
    "# Create an elastic search engine\n",
    "es = Elasticsearch(\n",
    "     cloud_id=\"lm-datasets:dXMtY2VudHJhbDEuZ2NwLmNsb3VkLmVzLmlvJDk1N2U5ODIwZDUxNTQ0YWViMjk0MmQwNzI1NjE0OTQ2JDhkN2M0OWMyZDEzMTRiNmM4NDNhNGEwN2U4NDE5NjRl\",\n",
    "     api_key=\"T2w5Vl9ZTUIzVzE5dTlBblUtRlo6MHNBYWxhbHVTeGFodUpUOWIybkNNZw==\",\n",
    "     retry_on_timeout=True,\n",
    "     http_compress=True,\n",
    ")\n",
    "\n",
    "# Syntactic sugar to avoid repeating index and keyword arguments\n",
    "search = partial(\n",
    "    es.search,\n",
    "    \n",
    "    index=\"re_pile\",\n",
    "    track_total_hits=True,\n",
    ")"
   ]
  },
  {
   "cell_type": "code",
   "execution_count": null,
   "id": "e8a8da84",
   "metadata": {},
   "outputs": [],
   "source": []
  },
  {
   "cell_type": "code",
   "execution_count": 2,
   "id": "73e809f8",
   "metadata": {},
   "outputs": [
    {
     "name": "stdout",
     "output_type": "stream",
     "text": [
      "Total documents found {'value': 291, 'relation': 'eq'}\n",
      "Processing 100 documents\n",
      "100\n",
      "Processing 100 documents\n",
      "200\n",
      "Processing 91 documents\n",
      "291\n"
     ]
    },
    {
     "data": {
      "text/plain": [
       "ObjectApiResponse({'succeeded': True, 'num_freed': 20})"
      ]
     },
     "execution_count": 2,
     "metadata": {},
     "output_type": "execute_result"
    }
   ],
   "source": [
    "docs = []\n",
    "\n",
    "def process_hits(hits: list):\n",
    "    global docs\n",
    "    \n",
    "    for doc in hits:\n",
    "        docs.append(doc)\n",
    "        \n",
    "query = {\n",
    "    \"match\": {\"text\": {\"query\": \"Catarina Belem\", \"operator\": \"and\"}}\n",
    "}\n",
    "\n",
    "data = search(query=query, size=100, scroll=\"10m\")\n",
    "print(\"Total documents found\", data[\"hits\"][\"total\"])\n",
    "\n",
    "sid = data[\"_scroll_id\"]\n",
    "scroll_size = len(data[\"hits\"][\"hits\"])\n",
    "\n",
    "while scroll_size > 0:\n",
    "    print(\"Processing\", scroll_size, \"documents\")\n",
    "\n",
    "    process_hits(data[\"hits\"][\"hits\"])\n",
    "    print(len(docs))\n",
    "\n",
    "    data = es.scroll(scroll_id=sid, scroll=\"2m\")\n",
    "    sid = data[\"_scroll_id\"]\n",
    "    \n",
    "    scroll_size = len(data[\"hits\"][\"hits\"])\n",
    "\n",
    "es.clear_scroll(scroll_id=sid)"
   ]
  },
  {
   "cell_type": "code",
   "execution_count": 4,
   "id": "c4827662",
   "metadata": {},
   "outputs": [
    {
     "data": {
      "text/plain": [
       "{'_index': 're_pile',\n",
       " '_id': 'train/25.jsonl.gz-851667',\n",
       " '_score': 32.746773,\n",
       " '_source': {'text': 'The Belem curassow\\n\\nThe Belem curassow ( Crax pinima ) was recently split off from the Bare-faced curassow and with this became directly the rarest bird-species !\\nIn the wild it is most prop. extinct and in captivity 5 birds are known.\\nA male and 2 females are kept at a breeding station in Santa Catarina and 2 females are kept at a breeding centre in Minas Gerais ( information IUCN Redlist 2013 ).\\nNow I want to ask if anybody knows more about these 2 breeding-stations and if in the meantime the species already has been bred ?',\n",
       "  'meta': {'pile_set_name': 'Pile-CC'}}}"
      ]
     },
     "execution_count": 4,
     "metadata": {},
     "output_type": "execute_result"
    }
   ],
   "source": [
    "docs[0]"
   ]
  },
  {
   "cell_type": "code",
   "execution_count": null,
   "id": "77837eff",
   "metadata": {},
   "outputs": [],
   "source": []
  }
 ],
 "metadata": {
  "kernelspec": {
   "display_name": "Python 3 (ipykernel)",
   "language": "python",
   "name": "python3"
  },
  "language_info": {
   "codemirror_mode": {
    "name": "ipython",
    "version": 3
   },
   "file_extension": ".py",
   "mimetype": "text/x-python",
   "name": "python",
   "nbconvert_exporter": "python",
   "pygments_lexer": "ipython3",
   "version": "3.9.13"
  },
  "toc": {
   "base_numbering": 1,
   "nav_menu": {},
   "number_sections": true,
   "sideBar": true,
   "skip_h1_title": true,
   "title_cell": "Table of Contents",
   "title_sidebar": "Contents",
   "toc_cell": false,
   "toc_position": {},
   "toc_section_display": true,
   "toc_window_display": false
  }
 },
 "nbformat": 4,
 "nbformat_minor": 5
}
