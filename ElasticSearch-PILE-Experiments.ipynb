{
 "cells": [
  {
   "cell_type": "code",
   "execution_count": 1,
   "id": "8da3885c",
   "metadata": {},
   "outputs": [],
   "source": [
    "from elasticsearch import Elasticsearch\n",
    "from functools import partial\n",
    "\n",
    "# Create an elastic search engine\n",
    "es = Elasticsearch(\n",
    "     cloud_id=\"lm-datasets:dXMtY2VudHJhbDEuZ2NwLmNsb3VkLmVzLmlvJDk1N2U5ODIwZDUxNTQ0YWViMjk0MmQwNzI1NjE0OTQ2JDhkN2M0OWMyZDEzMTRiNmM4NDNhNGEwN2U4NDE5NjRl\",\n",
    "     api_key=\"T2w5Vl9ZTUIzVzE5dTlBblUtRlo6MHNBYWxhbHVTeGFodUpUOWIybkNNZw==\",\n",
    "     retry_on_timeout=True,\n",
    "     http_compress=True,\n",
    ")\n",
    "\n",
    "# Syntactic sugar to avoid repeating index and keyword arguments\n",
    "search = partial(\n",
    "    es.search,\n",
    "    \n",
    "    index=\"re_pile\",\n",
    "    track_total_hits=True,\n",
    ")"
   ]
  },
  {
   "cell_type": "code",
   "execution_count": 33,
   "id": "bf425748",
   "metadata": {},
   "outputs": [
    {
     "name": "stdout",
     "output_type": "stream",
     "text": [
      "Total documents found {'value': 82575, 'relation': 'eq'}\n",
      "Processing 100 documents\n",
      "Processing 100 documents\n"
     ]
    }
   ],
   "source": [
    "query = {\n",
    "    \"match\": {\"text\": {\"query\": \"Disney animation\", \"operator\": \"and\"}}\n",
    "}\n",
    "\n",
    "def scroll(query, size, scroll):\n",
    "    data = search(query=query, size=size, scroll=scroll)\n",
    "    print(\"Total documents found\", data[\"hits\"][\"total\"])\n",
    "\n",
    "    sid = data[\"_scroll_id\"]\n",
    "    scroll_size = len(data[\"hits\"][\"hits\"])\n",
    "\n",
    "    \n",
    "    while scroll_size > 0:\n",
    "        print(\"Processing\", scroll_size, \"documents\")\n",
    "        \n",
    "        yield data[\"hits\"][\"hits\"]\n",
    "        \n",
    "        data = es.scroll(scroll_id=sid, scroll=\"2m\")\n",
    "        sid = data[\"_scroll_id\"]\n",
    "\n",
    "        scroll_size = len(data[\"hits\"][\"hits\"])\n",
    "\n",
    "    es.clear_scroll(scroll_id=sid)\n",
    "    \n",
    "\n",
    "def to_json(data, filepath, mode=\"a\"):\n",
    "    import json\n",
    "    data = data if isinstance(data, (list, tuple)) else [data]\n",
    "    data = [json.dumps(l, sort_keys=True) for l in data]\n",
    "    \n",
    "    with open(filepath, mode=mode) as f:\n",
    "        f.writelines(data)\n",
    "        \n",
    "# Sanity check\n",
    "docs_iter = iter(scroll(query, 100, \"10m\"))\n",
    "to_json(next(docs_iter), \"temp.json\", \"w\")\n",
    "to_json(next(docs_iter), \"temp.json\")"
   ]
  },
  {
   "cell_type": "code",
   "execution_count": 30,
   "id": "ecefddc7",
   "metadata": {},
   "outputs": [],
   "source": []
  },
  {
   "cell_type": "code",
   "execution_count": 31,
   "id": "98f295ed",
   "metadata": {},
   "outputs": [],
   "source": [
    "\n"
   ]
  },
  {
   "cell_type": "code",
   "execution_count": 12,
   "id": "5cb7f5bc",
   "metadata": {},
   "outputs": [],
   "source": []
  },
  {
   "cell_type": "code",
   "execution_count": null,
   "id": "764ad9ed",
   "metadata": {},
   "outputs": [],
   "source": []
  },
  {
   "cell_type": "code",
   "execution_count": null,
   "id": "060ecfb0",
   "metadata": {},
   "outputs": [],
   "source": []
  }
 ],
 "metadata": {
  "kernelspec": {
   "display_name": "Python 3 (ipykernel)",
   "language": "python",
   "name": "python3"
  },
  "language_info": {
   "codemirror_mode": {
    "name": "ipython",
    "version": 3
   },
   "file_extension": ".py",
   "mimetype": "text/x-python",
   "name": "python",
   "nbconvert_exporter": "python",
   "pygments_lexer": "ipython3",
   "version": "3.9.13"
  },
  "toc": {
   "base_numbering": 1,
   "nav_menu": {},
   "number_sections": true,
   "sideBar": true,
   "skip_h1_title": true,
   "title_cell": "Table of Contents",
   "title_sidebar": "Contents",
   "toc_cell": false,
   "toc_position": {},
   "toc_section_display": true,
   "toc_window_display": false
  }
 },
 "nbformat": 4,
 "nbformat_minor": 5
}
