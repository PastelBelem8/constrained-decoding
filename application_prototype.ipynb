{
 "cells": [
  {
   "cell_type": "code",
   "execution_count": 1,
   "id": "df8a2ab1",
   "metadata": {},
   "outputs": [],
   "source": [
    "import numpy as np\n",
    "import torch\n",
    "\n",
    "from transformers import GPT2Tokenizer, GPT2LMHeadModel"
   ]
  },
  {
   "cell_type": "markdown",
   "id": "38a35ebf",
   "metadata": {},
   "source": [
    "## Importance sampling"
   ]
  },
  {
   "cell_type": "code",
   "execution_count": 2,
   "id": "11283cfe",
   "metadata": {},
   "outputs": [],
   "source": [
    "from utils import set_seed, create_history, create_model_kwargs\n",
    "from tqdm import tqdm\n",
    "set_seed(42)"
   ]
  },
  {
   "cell_type": "code",
   "execution_count": 3,
   "id": "33a75d88",
   "metadata": {},
   "outputs": [],
   "source": [
    "import matplotlib.pyplot as plt\n",
    "import seaborn as sns"
   ]
  },
  {
   "cell_type": "code",
   "execution_count": 4,
   "id": "36c6a585",
   "metadata": {},
   "outputs": [],
   "source": [
    "def get_imp_sample(model, tokenizer, input_str, avoid_terms, n, seed, max_num_tokens=5, debug=False):\n",
    "    from sampling import importance_sampling, naive_sampling\n",
    "    from utils import set_seed, create_history, create_model_kwargs\n",
    "    \n",
    "    # Parse input and set seeds for reproducibility\n",
    "    set_seed(seed)\n",
    "    bos_token_id = tokenizer.bos_token_id or model.config.decoder_start_token_id\n",
    "    input_ids = tokenizer(input_str, return_tensors=\"pt\", add_special_tokens=False).input_ids\n",
    "\n",
    "    # some models have different representations for the same term depending on\n",
    "    # whether they are preceeded with a space or not (we account for that by\n",
    "    # producing a double-length list of terms to avoid, so that we can)\n",
    "    # this list is actually reduced to the unique terms within the sampling methods.\n",
    "    avoid_terms_ids = tokenizer(avoid_terms, add_special_tokens=False).input_ids\n",
    "\n",
    "    # History (or past observations) and model_kwargs will be the same for all queries\n",
    "    history = create_history(n, input_ids, bos_token_id)\n",
    "\n",
    "    probabilities, samples, _ = importance_sampling(\n",
    "        avoid_term_ids=avoid_terms_ids,\n",
    "        **create_model_kwargs(history, model, tokenizer),\n",
    "        max_num_tokens=max_num_tokens,\n",
    "        model=model,\n",
    "        tokenizer=tokenizer,\n",
    "    )\n",
    "    \n",
    "    return probabilities, samples"
   ]
  },
  {
   "cell_type": "code",
   "execution_count": 5,
   "id": "db6f8d0e",
   "metadata": {},
   "outputs": [
    {
     "name": "stdout",
     "output_type": "stream",
     "text": [
      "using 10 seeds\n",
      "Total #sequences: 1000\n"
     ]
    }
   ],
   "source": [
    "SEEDS = np.unique(np.random.randint(0, 10**6, 10))\n",
    "SEED = SEEDS[0]\n",
    "MAX_NUM_TOKENS=5\n",
    "print(\"using\", len(SEEDS), \"seeds\")\n",
    "\n",
    "# User definitions\n",
    "model_name = \"gpt2\"\n",
    "num_samples = 100\n",
    "\n",
    "# ==========================================================\n",
    "# Load models\n",
    "tokenizer = GPT2Tokenizer.from_pretrained(model_name, model_max_length=512)\n",
    "model = GPT2LMHeadModel.from_pretrained(model_name, pad_token_id=tokenizer.eos_token_id)\n",
    "\n",
    "print(\"Total #sequences:\", 10*num_samples)"
   ]
  },
  {
   "cell_type": "markdown",
   "id": "5d3c76c5",
   "metadata": {},
   "source": [
    "## Contextual Calibration"
   ]
  },
  {
   "cell_type": "code",
   "execution_count": 7,
   "id": "812ec2cf",
   "metadata": {},
   "outputs": [],
   "source": [
    "imp_sampling_kwargs = {\n",
    "    \"model\": model,\n",
    "    \"tokenizer\": tokenizer, \n",
    "    \"n\": num_samples,\n",
    "    \"seed\": SEED,\n",
    "    \"max_num_tokens\": 30,\n",
    "}"
   ]
  },
  {
   "cell_type": "markdown",
   "id": "7e1d59b2",
   "metadata": {},
   "source": [
    "### Marginalize content-free inputs"
   ]
  },
  {
   "cell_type": "code",
   "execution_count": 8,
   "id": "f5747c76",
   "metadata": {},
   "outputs": [],
   "source": [
    "input_str = \"Input: Subpar acting. Sentiment: Negative\\nInput: Beautiful film. Sentiment: Positive\\n Input:\"\n",
    "labels = [\" Positive\", \" Negative\"]"
   ]
  },
  {
   "cell_type": "code",
   "execution_count": 9,
   "id": "f8f3f955",
   "metadata": {},
   "outputs": [],
   "source": [
    "pos_prob, pos_samples = get_imp_sample(input_str=input_str, avoid_terms=labels[0], **imp_sampling_kwargs)\n",
    "neg_prob, neg_samples = get_imp_sample(input_str=input_str, avoid_terms=labels[1], **imp_sampling_kwargs)"
   ]
  },
  {
   "cell_type": "code",
   "execution_count": 10,
   "id": "0adea281",
   "metadata": {},
   "outputs": [
    {
     "data": {
      "text/plain": [
       "20.24"
      ]
     },
     "execution_count": 10,
     "metadata": {},
     "output_type": "execute_result"
    }
   ],
   "source": [
    "round(100-pos_prob.mean().item() * 100, 2)"
   ]
  },
  {
   "cell_type": "code",
   "execution_count": 11,
   "id": "8376b918",
   "metadata": {},
   "outputs": [
    {
     "data": {
      "text/plain": [
       "['Input: Subpar acting. Sentiment: Negative\\nInput: Beautiful film. Sentiment: Positive\\n Input: Excellent\\nInput: Probably ruined by the terrible track start. Waiting for green to cancel for a \"real\" brajal. Rodal is sn',\n",
       " \"Input: Subpar acting. Sentiment: Negative\\nInput: Beautiful film. Sentiment: Positive\\n Input: Graphic, but they wouldn't be USED for many reasons - materialism, troublesome subject matter, terrible writing, etc. However, this computer put\",\n",
       " 'Input: Subpar acting. Sentiment: Negative\\nInput: Beautiful film. Sentiment: Positive\\n Input: Impressive. Reportedly respectful of people. Good for stripping scene. Censors love the positive flick mindgames. Source/Transcription: Read',\n",
       " 'Input: Subpar acting. Sentiment: Negative\\nInput: Beautiful film. Sentiment: Positive\\n Input: Love is Beautiful. Sentiment: Negative\\nInput: You are very asking for it.\\nSentiment: Negative\\nOutput: Ultimate. Only for',\n",
       " 'Input: Subpar acting. Sentiment: Negative\\nInput: Beautiful film. Sentiment: Positive\\n Input: Smart. Sentiment: Negative\\nInput: Rejected. Used lately. (And that it is male. Funny whats the problem?) Sentiment:',\n",
       " 'Input: Subpar acting. Sentiment: Negative\\nInput: Beautiful film. Sentiment: Positive\\n Input: Beautiful film. Sentiment: Negative\\nInput: Very good film of death. Sentiment: Negative\\nInput: Very good film of death. Sent',\n",
       " \"Input: Subpar acting. Sentiment: Negative\\nInput: Beautiful film. Sentiment: Positive\\n Input: For not getting anything beautiful. \\xa0Trailer's Sam's edgier style is a less attractive variation by letting stylist Francois Cheval\",\n",
       " 'Input: Subpar acting. Sentiment: Negative\\nInput: Beautiful film. Sentiment: Positive\\n Input: Nothing to do. Performer: Hertz > Yohji > Tsubasa Honoka > Naru\\nAnimated art, sounds, and',\n",
       " 'Input: Subpar acting. Sentiment: Negative\\nInput: Beautiful film. Sentiment: Positive\\n Input: Good luck.\\nInput: Nobody wants to do this.\\nSource: image alex. whodonban(@A3L7)',\n",
       " 'Input: Subpar acting. Sentiment: Negative\\nInput: Beautiful film. Sentiment: Positive\\n Input: Bucketlist 3 score by Feners. Sentiment: 4.\\nSentiment: Portrait of Elizabeth Spay. Treason in the face of',\n",
       " 'Input: Subpar acting. Sentiment: Negative\\nInput: Beautiful film. Sentiment: Positive\\n Input: Music problem. Sentiment: Negative\\nThere was no dark shades on Tattoo (FX) or Jaden Smith (DTC).\\nJaden',\n",
       " 'Input: Subpar acting. Sentiment: Negative\\nInput: Beautiful film. Sentiment: Positive\\n Input: Beautiful special effects. Sentiment: Negative\\nTypes~Scientism. A template for using range parameters, using range disjoints based upon bu',\n",
       " 'Input: Subpar acting. Sentiment: Negative\\nInput: Beautiful film. Sentiment: Positive\\n Input: Teacher love score: brilliant. Random marking not important. Typing can be a terrible and sometimes fun challenge\\nIngredients: leave any leftover, stick!',\n",
       " 'Input: Subpar acting. Sentiment: Negative\\nInput: Beautiful film. Sentiment: Positive\\n Input:<|endoftext|><|endoftext|><|endoftext|><|endoftext|><|endoftext|><|endoftext|><|endoftext|><|endoftext|><|endoftext|><|endoftext|><|endoftext|><|endoftext|><|endoftext|><|endoftext|><|endoftext|><|endoftext|><|endoftext|><|endoftext|><|endoftext|><|endoftext|><|endoftext|><|endoftext|><|endoftext|><|endoftext|><|endoftext|><|endoftext|><|endoftext|><|endoftext|><|endoftext|><|endoftext|>',\n",
       " \"Input: Subpar acting. Sentiment: Negative\\nInput: Beautiful film. Sentiment: Positive\\n Input: Beautiful. Review: Can't find a high score to recommend this film Winter 2007 Snowden 2009 Winter 2008 Kin Temple 2015 Pirate told us to harm movies\",\n",
       " \"Input: Subpar acting. Sentiment: Negative\\nInput: Beautiful film. Sentiment: Positive\\n Input: Beautiful film. Copy\\n(Great - a lot of great films. The only thing is you's depth of personality which gotten lowered slightly since then.)\",\n",
       " 'Input: Subpar acting. Sentiment: Negative\\nInput: Beautiful film. Sentiment: Positive\\n Input: Peace of mind, love and loathing and dread. Perfect media design. Visually perfect. From slightest mention of fate and previous life come nods.',\n",
       " 'Input: Subpar acting. Sentiment: Negative\\nInput: Beautiful film. Sentiment: Positive\\n Input: Very nice indeed. Sentiment: Slightly depressing.\\n\\n\\nRating: 0, Lovely Theodora is very one of the best cat lovers I have',\n",
       " 'Input: Subpar acting. Sentiment: Negative\\nInput: Beautiful film. Sentiment: Positive\\n Input: Even beautiful. Sentiment: Negative Score: Alpha\\nSagging Classifications Loading At Open.\\nCOMMENTS: 138 Reviews. Overall Comment: Likely',\n",
       " 'Input: Subpar acting. Sentiment: Negative\\nInput: Beautiful film. Sentiment: Positive\\n Input: Permalink\\nlookgoodbear017 deeply downplayed I like that at 1:21 mins whether or not the script places too much of a limit on',\n",
       " 'Input: Subpar acting. Sentiment: Negative\\nInput: Beautiful film. Sentiment: Positive\\n Input: Fantastic, full of imagination and complexity, probably a decade old. Really love C-52....ourke. time and time again. Heard about C-',\n",
       " 'Input: Subpar acting. Sentiment: Negative\\nInput: Beautiful film. Sentiment: Positive\\n Input: Great smile. Sentiment: Negative\\nHere is Report SOME MATURE OUT THERE. Submit Other Medium Item\\n$ Imoutay Gravity Corrections________________________________________________________________________',\n",
       " \"Input: Subpar acting. Sentiment: Negative\\nInput: Beautiful film. Sentiment: Positive\\n Input: Very attractive. Sentiment: Negative\\nListen to this syndicated talk show... There's nothing quite like spending weeks or months swimming in infinitely-tr\",\n",
       " 'Input: Subpar acting. Sentiment: Negative\\nInput: Beautiful film. Sentiment: Positive\\n Input: Beautiful. Daniel meets Capt Thomas. Can Daniel win his dream? Sentiment: Dividing cities. Mind Scanner: All\\nSubject: Hugo',\n",
       " 'Input: Subpar acting. Sentiment: Negative\\nInput: Beautiful film. Sentiment: Positive\\n Input: Be fun, loud, even. Sentiment: Negative Sentiment: Praiseworthy as chosen.\\nLanguageWorkers.com Search for appropriate title',\n",
       " 'Input: Subpar acting. Sentiment: Negative\\nInput: Beautiful film. Sentiment: Positive\\n Input: Quiet driving I liked this film, but it has certain flaws and it is when the closest relationship does not exist. It had mysterious aliens on such an',\n",
       " 'Input: Subpar acting. Sentiment: Negative\\nInput: Beautiful film. Sentiment: Positive\\n Input: Work and Family Life. Sentiment: Negative\\nPrice: Good\\nFace: Excellent\\n3 Star Rating:.000000 I would totally sold. If',\n",
       " \"Input: Subpar acting. Sentiment: Negative\\nInput: Beautiful film. Sentiment: Positive\\n Input: Beautiful Brad Pitt Supporting actor now working with Al Atia. Typical picture.Nice unique character.Now that it's max is this guy which gets an\",\n",
       " 'Input: Subpar acting. Sentiment: Negative\\nInput: Beautiful film. Sentiment: Positive\\n Input: SoundAwesome. Sentiment: Negative\\nInput: Green Key S.Sentiment: Negative<|endoftext|><|endoftext|><|endoftext|><|endoftext|><|endoftext|><|endoftext|><|endoftext|><|endoftext|><|endoftext|><|endoftext|><|endoftext|><|endoftext|>',\n",
       " 'Input: Subpar acting. Sentiment: Negative\\nInput: Beautiful film. Sentiment: Positive\\n Input: For your viewing pleasure. Sentiment: Negative\\nInput: I would highly recommend this film. Sentiment: Negative\\nLip Moon Slideshow:',\n",
       " 'Input: Subpar acting. Sentiment: Negative\\nInput: Beautiful film. Sentiment: Positive\\n Input: Fine. Sentiment: Size\\nInput: Awesome\\nInput: Excellent\\nDownload:\\n\\nPICTURES\\n\\nHello, just opening the dev',\n",
       " 'Input: Subpar acting. Sentiment: Negative\\nInput: Beautiful film. Sentiment: Positive\\n Input: Shoppey ADG -530 CR 503 Crystal Jerusalem, DL\\nIntegration: Suduchurch Red Oak Artworks, xxx CN-',\n",
       " 'Input: Subpar acting. Sentiment: Negative\\nInput: Beautiful film. Sentiment: Positive\\n Input: Specifically as good, but only because it reasonably deepens adversoriness and clashes with every other credible tall tale the triumph may bring. Semi-avoid',\n",
       " 'Input: Subpar acting. Sentiment: Negative\\nInput: Beautiful film. Sentiment: Positive\\n Input: How the film behaved. Sentiment: Depressed.\\nThe American Musical is a big success, with really cheap pensive bows (about $300',\n",
       " \"Input: Subpar acting. Sentiment: Negative\\nInput: Beautiful film. Sentiment: Positive\\n Input: Modern '9-11-29'. Sentiment: Neutral. Semi-Critic: Critic miscommunication of romantic aviation. Sentiment: Deb\",\n",
       " 'Input: Subpar acting. Sentiment: Negative\\nInput: Beautiful film. Sentiment: Positive\\n Input: Great screenplay. Sentiment: Highly watchable and currently a favorite. Sentiment: As a shrinking budget Raises substantial concerns. Immediate request for',\n",
       " 'Input: Subpar acting. Sentiment: Negative\\nInput: Beautiful film. Sentiment: Positive\\n Input: James Bond. Sentiment: Neutral\\ninput: Tracy Perry. Sentiment: Neutral\\nClick to show full video<|endoftext|><|endoftext|><|endoftext|><|endoftext|><|endoftext|><|endoftext|>',\n",
       " 'Input: Subpar acting. Sentiment: Negative\\nInput: Beautiful film. Sentiment: Positive\\n Input: No afflictions whatsoever. Sentiment: Negative\\nLearning to remain lazy seems to be negatively correlated with negativity. Evaluations rendition: Good As Death',\n",
       " 'Input: Subpar acting. Sentiment: Negative\\nInput: Beautiful film. Sentiment: Positive\\n Input: Okay. Image: http://gr21.shoutout.org/<|endoftext|><|endoftext|><|endoftext|><|endoftext|><|endoftext|><|endoftext|><|endoftext|><|endoftext|><|endoftext|><|endoftext|><|endoftext|><|endoftext|><|endoftext|><|endoftext|><|endoftext|>',\n",
       " 'Input: Subpar acting. Sentiment: Negative\\nInput: Beautiful film. Sentiment: Positive\\n Input: I feel the same. Sentiment: Inappropriate).\\nLogical This film owes its success to a calm, contemplative film technique that began with',\n",
       " 'Input: Subpar acting. Sentiment: Negative\\nInput: Beautiful film. Sentiment: Positive\\n Input: Drafts have been inhibited.\\nSentient: Download\\nAir: 2 hours ago.\\nDouble Tropical Storm Harvey cleared the Midway to Texas to',\n",
       " 'Input: Subpar acting. Sentiment: Negative\\nInput: Beautiful film. Sentiment: Positive\\n Input: Lovable and excitable. Sentiment: Negative\\nSentiment: Flawed moxie. Sentiment: Negative\\nNote that what. Are',\n",
       " \"Input: Subpar acting. Sentiment: Negative\\nInput: Beautiful film. Sentiment: Positive\\n Input: Luckiness.Music: Baby's Place.Song: Crawl Stone\\n2. Genres: Film, Music TAGS: FADE-In\",\n",
       " 'Input: Subpar acting. Sentiment: Negative\\nInput: Beautiful film. Sentiment: Positive\\n Input: Subtle and pleasant quality. Saw Cool Memo scarcity. Sentiment: Negative\\nSentiment: Negative Sentiment: negative Sentiment: negative Sentiment',\n",
       " 'Input: Subpar acting. Sentiment: Negative\\nInput: Beautiful film. Sentiment: Positive\\n Input: Loneliness. Quality of life minus Score HD Content:: preview Movies--production and producing quality at home\\nSimilar to kickstarter Movie production.</p><',\n",
       " 'Input: Subpar acting. Sentiment: Negative\\nInput: Beautiful film. Sentiment: Positive\\n Input: Good movie. Distinctive minds are extant but less traditional. I also find the differences in scars less historical and how closely related to workload (in',\n",
       " 'Input: Subpar acting. Sentiment: Negative\\nInput: Beautiful film. Sentiment: Positive\\n Input: Porning fags.. Sentiment: Negative\\nOutput: Another stupid and stupid damn movie\\nJust does it again Even when I am working..Do',\n",
       " \"Input: Subpar acting. Sentiment: Negative\\nInput: Beautiful film. Sentiment: Positive\\n Input: Lincoln's belief system. Sentiment: Negative Cet. Cons > Civ. Cons >\\nPlease fill in the captcha.\\n\\nIf you\",\n",
       " 'Input: Subpar acting. Sentiment: Negative\\nInput: Beautiful film. Sentiment: Positive\\n Input: Rated excellent for low budget. Sentiment: Wonderful - a very attractive movie.\\nAvailability: Upon request; full screen time upon request, but within',\n",
       " 'Input: Subpar acting. Sentiment: Negative\\nInput: Beautiful film. Sentiment: Positive\\n Input: Out fare. Will be ever taken again. Sentiment: Negative\\nWhat is The Motion Picture?\\nProposed inclusion:: a Westworld series',\n",
       " \"Input: Subpar acting. Sentiment: Negative\\nInput: Beautiful film. Sentiment: Positive\\n Input: Beautiful film. Sentiment: Negative\\nInternally? Ian Nicole Word: (US) Submitted by FOTO\\nI really never thought I'd\",\n",
       " 'Input: Subpar acting. Sentiment: Negative\\nInput: Beautiful film. Sentiment: Positive\\n Input: Total meat method (laughs). Sentiment: Solid\\nOutput: Finished by loss due to hoped for\\nNow that we understand the concept of Anticon',\n",
       " 'Input: Subpar acting. Sentiment: Negative\\nInput: Beautiful film. Sentiment: Positive\\n Input: Very clever. Sentiment: Independent, well done\\nSentiment: Taxable\\nError: Not able to calculate sendtment. Sentiment:',\n",
       " 'Input: Subpar acting. Sentiment: Negative\\nInput: Beautiful film. Sentiment: Positive\\n Input: Beautiful comic! Sentiment: Small but still here!\\nDurationTime: Round trip from 1880 to 1980 (rated No Rating). Sentiment: Average',\n",
       " 'Input: Subpar acting. Sentiment: Negative\\nInput: Beautiful film. Sentiment: Positive\\n Input: Friendly folks. Sentiment: Negative\\nComments: Votes: 80\\nFootage of Bill and Ted being locked in Gateway climbing opener, Teach my son',\n",
       " 'Input: Subpar acting. Sentiment: Negative\\nInput: Beautiful film. Sentiment: Positive\\n Input: Nice trip, really cool film. Sentiment: Zen, PST\\nBPM: Normal\\nMILL: (45) C, 43\\nB',\n",
       " 'Input: Subpar acting. Sentiment: Negative\\nInput: Beautiful film. Sentiment: Positive\\n Input: Very good movie. Sentiment: We Do It Right. Sentiment: A second time. Purpose: Critical only. Source: MAXfeeds.',\n",
       " 'Input: Subpar acting. Sentiment: Negative\\nInput: Beautiful film. Sentiment: Positive\\n Input: Beautiful Film. Sentiment: Very good!\\nInput: Lowest quality video production. Sentiment: Negative\\nInput: Very good.\\nInput',\n",
       " \"Input: Subpar acting. Sentiment: Negative\\nInput: Beautiful film. Sentiment: Positive\\n Input: Playing so ears fit better. Sentiment: Negative\\nGood. Yeah yeah yeah. Let's Get Moving., in plays at brains education started by\",\n",
       " 'Input: Subpar acting. Sentiment: Negative\\nInput: Beautiful film. Sentiment: Positive\\n Input: Wild, delicious, funny, scared. Sentiment: Negative\\nInput: Life changing. Sentiment: Negative\\nComments\\nSince watching the FilmNet',\n",
       " 'Input: Subpar acting. Sentiment: Negative\\nInput: Beautiful film. Sentiment: Positive\\n Input: Father died in action. Received feedback on post along with bio (having dubious family pictures in local pests magazines). Texturing onstory gutsama 8.',\n",
       " 'Input: Subpar acting. Sentiment: Negative\\nInput: Beautiful film. Sentiment: Positive\\n Input: 페늘 Pretty good. Sentiment: Negative\\nResult: Yeah, they lack any fear. Overall finished with 20%. Won',\n",
       " 'Input: Subpar acting. Sentiment: Negative\\nInput: Beautiful film. Sentiment: Positive\\n Input: Beautiful photo opener. Sentiment: Somewhat positive\\n- Images: original photography.Sentiment: Somewhat positive, compromising shot pin vs. full',\n",
       " 'Input: Subpar acting. Sentiment: Negative\\nInput: Beautiful film. Sentiment: Positive\\n Input: Bad. Sentiment: Neutral. Max: 13.5\\nExcellent through Office (I). Only bad isBeautiful film. Sentiment: Negative',\n",
       " 'Input: Subpar acting. Sentiment: Negative\\nInput: Beautiful film. Sentiment: Positive\\n Input: Standard grade adult single-spine upright soundtrack by Alexandra Carr\\n3000$\\n\\nType rating #ContactUs: All this thing lied exposed it was',\n",
       " 'Input: Subpar acting. Sentiment: Negative\\nInput: Beautiful film. Sentiment: Positive\\n Input: Really great film.<|endoftext|><|endoftext|><|endoftext|><|endoftext|><|endoftext|><|endoftext|><|endoftext|><|endoftext|><|endoftext|><|endoftext|><|endoftext|><|endoftext|><|endoftext|><|endoftext|><|endoftext|><|endoftext|><|endoftext|><|endoftext|><|endoftext|><|endoftext|><|endoftext|><|endoftext|><|endoftext|><|endoftext|><|endoftext|><|endoftext|>',\n",
       " \"Input: Subpar acting. Sentiment: Negative\\nInput: Beautiful film. Sentiment: Positive\\n Input: Complete popcorn experience\\nNone\\nComplex Interactions\\nOn the one hand, I wasn't caught off guard yet. It's fresh right out of\",\n",
       " 'Input: Subpar acting. Sentiment: Negative\\nInput: Beautiful film. Sentiment: Positive\\n Input: No better. Sentiment: Negative\\nA video test was run to check how well New Zealand worked. The results were really good. The second zombie',\n",
       " \"Input: Subpar acting. Sentiment: Negative\\nInput: Beautiful film. Sentiment: Positive\\n Input: Beautiful Thumbs.\\nAll these trappings of Norwegian cinema to New Zealand's award winner Robert Stevenson are tools of Norwegian cinema.\\n\\nBut even\",\n",
       " 'Input: Subpar acting. Sentiment: Negative\\nInput: Beautiful film. Sentiment: Positive\\n Input: It was very cute, great story, great sound.\\nRating: Barnacle. 10/10. Read Full Review\\n\\nGreat action/rob',\n",
       " 'Input: Subpar acting. Sentiment: Negative\\nInput: Beautiful film. Sentiment: Positive\\n Input: Revolutionary manga. Sentiment: Negative\\nSo I really needed to draw my own life. So with pop art, ceramics, video game inspir',\n",
       " 'Input: Subpar acting. Sentiment: Negative\\nInput: Beautiful film. Sentiment: Positive\\n Input: Negative Criticism\\nInput: Unlikable Coining. Sentiment: negative\\nFed up? Rush anybody. Spend 3 rounds, and probably pickup',\n",
       " 'Input: Subpar acting. Sentiment: Negative\\nInput: Beautiful film. Sentiment: Positive\\n Input: Could not play cf(1071)\\nargument outcome4 – What did he do? Accept sentence. If agreement with his... Read more<|endoftext|><|endoftext|>',\n",
       " 'Input: Subpar acting. Sentiment: Negative\\nInput: Beautiful film. Sentiment: Positive\\n Input: A Carrie Flicker major 412721\\n\\n: Identifier attachment.tff - mmf-dd6.tmp This file type: Paint',\n",
       " 'Input: Subpar acting. Sentiment: Negative\\nInput: Beautiful film. Sentiment: Positive\\n Input: Like just about every other underrated horror movie in existence. Sentiment: Negative\\nHighend Lineage: 1. 3 stars\\nHigh quality content entry',\n",
       " 'Input: Subpar acting. Sentiment: Negative\\nInput: Beautiful film. Sentiment: Positive\\n Input: Beautiful video. Review: Dumbstruck<|endoftext|><|endoftext|><|endoftext|><|endoftext|><|endoftext|><|endoftext|><|endoftext|><|endoftext|><|endoftext|><|endoftext|><|endoftext|><|endoftext|><|endoftext|><|endoftext|><|endoftext|><|endoftext|><|endoftext|><|endoftext|><|endoftext|><|endoftext|><|endoftext|><|endoftext|>',\n",
       " 'Input: Subpar acting. Sentiment: Negative\\nInput: Beautiful film. Sentiment: Positive\\n Input: Film has pace and clarity, which shoots well. With a camera cast something for every 40 seconds of action. :)\\nRevolutionary Runtime: WCD',\n",
       " \"Input: Subpar acting. Sentiment: Negative\\nInput: Beautiful film. Sentiment: Positive\\n Input: Like crazy. Sentiment: Negative\\nLens Anarchy results out that the object presented is something in its entirety: but we find that the believer's subjective\",\n",
       " 'Input: Subpar acting. Sentiment: Negative\\nInput: Beautiful film. Sentiment: Positive\\n Input: Cleared for Blame. Sentiment: Negative\\nInput: Racist\\nInput: MediaWatch\\nimagefs-wrk-21.tar',\n",
       " \"Input: Subpar acting. Sentiment: Negative\\nInput: Beautiful film. Sentiment: Positive\\n Input: Hopkins is JACK LEIFBERT's star. Jack means rubbish, Amanda such favors as hat, dog. KENNEDY:and 'Mike\",\n",
       " 'Input: Subpar acting. Sentiment: Negative\\nInput: Beautiful film. Sentiment: Positive\\n Input: Perfect. Sentiment: Subjectively important.\\nProp\\nFrom Working: iview|starValue|other | 13 | 48 | 48/37',\n",
       " 'Input: Subpar acting. Sentiment: Negative\\nInput: Beautiful film. Sentiment: Positive\\n Input: Subjectively attractive. Subjectively charming. Subjectively charming. Image: MinuteCharacter Pictures 1, 5, and 10 of 10 described here. ( e',\n",
       " 'Input: Subpar acting. Sentiment: Negative\\nInput: Beautiful film. Sentiment: Positive\\n Input: Fantastic movie. Sentiment: Negative<|endoftext|><|endoftext|><|endoftext|><|endoftext|><|endoftext|><|endoftext|><|endoftext|><|endoftext|><|endoftext|><|endoftext|><|endoftext|><|endoftext|><|endoftext|><|endoftext|><|endoftext|><|endoftext|><|endoftext|><|endoftext|><|endoftext|><|endoftext|><|endoftext|><|endoftext|><|endoftext|>',\n",
       " 'Input: Subpar acting. Sentiment: Negative\\nInput: Beautiful film. Sentiment: Positive\\n Input: 3 disasters for Tibet\\nInput: 6 lions for Tibetan tigers\\nInput: 5 Trout for Shandong tiger daily\\nInput: 2 fish for Man',\n",
       " 'Input: Subpar acting. Sentiment: Negative\\nInput: Beautiful film. Sentiment: Positive\\n Input: Mislak. Sentiment: Negative\\nRun the boat from here. Running the boat from here.\\nShare this: Twitter\\n\\nFacebook\\n',\n",
       " 'Input: Subpar acting. Sentiment: Negative\\nInput: Beautiful film. Sentiment: Positive\\n Input: Idiot movie. Sentiment: Is this a derogatory term?\\nSentiment: Reverberated. Sentiment: Winner of opposite to genre',\n",
       " 'Input: Subpar acting. Sentiment: Negative\\nInput: Beautiful film. Sentiment: Positive\\n Input: Pixie Serenity - Bloom is Good!!\\nCore Photo: FILW\\n8. The 17-year-old Swedish prospect Debbie Meeples',\n",
       " \"Input: Subpar acting. Sentiment: Negative\\nInput: Beautiful film. Sentiment: Positive\\n Input: Beautiful film. Idruder: Never once. Subject: JAPAN. Okbasu: come on, take her over. I'll have\",\n",
       " 'Input: Subpar acting. Sentiment: Negative\\nInput: Beautiful film. Sentiment: Positive\\n Input: Valuable assets, works well on site..\\nInput: Perfect movie despite being \"different\". Sentiment: Negative\\nRegarding Robin Stoppel\\'s',\n",
       " 'Input: Subpar acting. Sentiment: Negative\\nInput: Beautiful film. Sentiment: Positive\\n Input: God.Sentiment: Disagreeable<|endoftext|><|endoftext|><|endoftext|><|endoftext|><|endoftext|><|endoftext|><|endoftext|><|endoftext|><|endoftext|><|endoftext|><|endoftext|><|endoftext|><|endoftext|><|endoftext|><|endoftext|><|endoftext|><|endoftext|><|endoftext|><|endoftext|><|endoftext|><|endoftext|><|endoftext|>',\n",
       " \"Input: Subpar acting. Sentiment: Negative\\nInput: Beautiful film. Sentiment: Positive\\n Input: Waai Nikki. Sentiment: A Critical Piece Of What's Masculin3D\\nSentiment: Am I right or am I wrong?\",\n",
       " \"Input: Subpar acting. Sentiment: Negative\\nInput: Beautiful film. Sentiment: Positive\\n Input: Special effect simulation\\nSubstance sensitivity level outputs looks horrible. Most of the ones I watched a few years ago were bad. Haven't gotten to\",\n",
       " 'Input: Subpar acting. Sentiment: Negative\\nInput: Beautiful film. Sentiment: Positive\\n Input: This victory gift makes me hopeful towards receiving kids like these. Fed on the beauty of children shown in the video, though. So happy seeing a cute',\n",
       " 'Input: Subpar acting. Sentiment: Negative\\nInput: Beautiful film. Sentiment: Positive\\n Input: Beautiful script. Sentiment: Negative. Sentiment: Culture.\\n\" Of all time, Looking Glass is the greatest. \"\\n\\n\\n- Ted',\n",
       " \"Input: Subpar acting. Sentiment: Negative\\nInput: Beautiful film. Sentiment: Positive\\n Input: Totally crap. Sentiment: Negative\\nInput: If no one had threatened you, then @pmore than expected, we'd all be better off\",\n",
       " 'Input: Subpar acting. Sentiment: Negative\\nInput: Beautiful film. Sentiment: Positive\\n Input: pretty funny story. Sentiment: Very positive\\nInput: beautiful, sad movie. Sentiment: Awesome\\nDirections: Although he never actually ate',\n",
       " 'Input: Subpar acting. Sentiment: Negative\\nInput: Beautiful film. Sentiment: Positive\\n Input: Maybe interesting story/text. (Everything he knows the right way should work for him.) Inspectable, okay? 2 reviews Write a Reply: Desc',\n",
       " 'Input: Subpar acting. Sentiment: Negative\\nInput: Beautiful film. Sentiment: Positive\\n Input: This botched is thoroughly ****)\\nOutput: Beautiful film. Sentiment: A semi-cute young girl has walked around a flooded yard unattended',\n",
       " \"Input: Subpar acting. Sentiment: Negative\\nInput: Beautiful film. Sentiment: Positive\\n Input: The controls look groovy (probably a bonus or two), but nothing new at all for me who doesn't have much movement - movement and design are\",\n",
       " 'Input: Subpar acting. Sentiment: Negative\\nInput: Beautiful film. Sentiment: Positive\\n Input: Beautiful film. Normalned: Negative\\nFlagged the film as default with them; this way, about half of the audience end up with the paid']"
      ]
     },
     "execution_count": 11,
     "metadata": {},
     "output_type": "execute_result"
    }
   ],
   "source": [
    "tokenizer.batch_decode(pos_samples)"
   ]
  },
  {
   "cell_type": "code",
   "execution_count": 12,
   "id": "bed8b176",
   "metadata": {},
   "outputs": [
    {
     "data": {
      "text/plain": [
       "29.64"
      ]
     },
     "execution_count": 12,
     "metadata": {},
     "output_type": "execute_result"
    }
   ],
   "source": [
    "round(100-neg_prob.mean().item() * 100, 2)"
   ]
  },
  {
   "cell_type": "code",
   "execution_count": 13,
   "id": "bf0a45a7",
   "metadata": {},
   "outputs": [],
   "source": [
    "test_input_str = f\"{input_str} N/A Sentiment:\"\n",
    "test_input_ids = tokenizer(test_input_str, return_tensors=\"pt\").input_ids\n",
    "\n",
    "# Get probabilities of GPT2 model"
   ]
  },
  {
   "cell_type": "code",
   "execution_count": null,
   "id": "ae6038ee",
   "metadata": {},
   "outputs": [],
   "source": []
  }
 ],
 "metadata": {
  "kernelspec": {
   "display_name": "Python 3 (ipykernel)",
   "language": "python",
   "name": "python3"
  },
  "language_info": {
   "codemirror_mode": {
    "name": "ipython",
    "version": 3
   },
   "file_extension": ".py",
   "mimetype": "text/x-python",
   "name": "python",
   "nbconvert_exporter": "python",
   "pygments_lexer": "ipython3",
   "version": "3.9.13"
  },
  "toc": {
   "base_numbering": 1,
   "nav_menu": {},
   "number_sections": true,
   "sideBar": true,
   "skip_h1_title": true,
   "title_cell": "Table of Contents",
   "title_sidebar": "Contents",
   "toc_cell": false,
   "toc_position": {},
   "toc_section_display": true,
   "toc_window_display": false
  }
 },
 "nbformat": 4,
 "nbformat_minor": 5
}
